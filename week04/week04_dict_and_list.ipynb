{
 "cells": [
  {
   "cell_type": "markdown",
   "metadata": {},
   "source": [
    "# Transforming a dictionary into a list\n",
    "\n",
    "Our goal with this example is to take a dictioanry of hospital systems and hospitals like the hierarchy below and convert it into a flat list.\n",
    "\n",
    "### Hierarchy we have\n",
    "```\n",
    "  BJC   ------>  Missouri Baptist Hospital\n",
    "          |\n",
    "          +--->  Barnes Hospital\n",
    "          |\n",
    "          +--->  St. Peter's Hospital\n",
    "          \n",
    "  Mercy ------>  Mercy St. Louis\n",
    "          |\n",
    "          +--->  Mercy Springfield\n",
    "          |\n",
    "          +--->  Mercy Joplin\n",
    "          |\n",
    "          +--->  Mercy Oklahoma City\n",
    "          \n",
    "          \n",
    "  SSM   ------>  SLU Hospital\n",
    "          |\n",
    "          +--->  DePaul Hospital\n",
    "          \n",
    "```\n",
    "\n",
    "### What the hierarchy looks like as a dictionary\n",
    "```python\n",
    "{\n",
    "  'BJC': ['Missouri Baptist Hospital','Barnes Hospital','St. Peters Hospital'],\n",
    "  'Mercy': ['Mercy St. Louis','Mercy Springfield','Mercy Joplin','Mercy Oklahoma City'],\n",
    "  'SSM': ['SLU Hospital','DePaul Hospital']\n",
    "}\n",
    "```\n",
    "\n",
    "### List we want\n",
    "```python\n",
    "[\n",
    "  ['BJC', 'Missouri Baptist Hospital'],\n",
    "  ['BJC', 'Barnes Hospital'],\n",
    "  ['BJC', 'St. Peters Hospital'],\n",
    "  ['Mercy', 'Mercy St. Louis'],\n",
    "  ['Mercy', 'Mercy Springfield'],\n",
    "  ['Mercy', 'Mercy Joplin'],\n",
    "  ['Mercy', 'Mercy Oklahoma City'],\n",
    "  ['SSM', 'SLU Hospital'],\n",
    "  ['SSM', 'DePaul Hospital']\n",
    "]\n",
    "```\n",
    "\n",
    "### Approach we will take\n",
    "1. Since we want the output to be a list, let's start by creating an empty list\n",
    "2. Then, loop through each key/value pair in the dictionary\n",
    "3. Each value in the dictionary is a list of hospital names, so let's loop through that list\n",
    "4. For each of the hospital names, add a two-item list with the system (key) and hospital (value item) to the end of your output list"
   ]
  },
  {
   "cell_type": "code",
   "execution_count": null,
   "metadata": {},
   "outputs": [],
   "source": [
    "def systems2hospitals(systems):\n",
    "    \n",
    "    # 1. Start by creating an empty list that will be our output\n",
    "    output = []\n",
    "    \n",
    "    # 2. Loop through each key/value pair in the dictionary\n",
    "    for system,hospital_list in systems.items():\n",
    "        \n",
    "        # The variable \"system\" will be things like: \"BJC\", \"Mercy\", and \"SSM\"\n",
    "        # The variable \"hospital_list\" will be the lists: \n",
    "        #    ['Missour Baptist Hospital','Barnes Hospital','St. Peters Hospital'] and\n",
    "        #    ['Mercy St. Louis','Mercy Springfield'...]\n",
    "        #    ['SLU Hospital','DePaul Hospital']\n",
    "        \n",
    "        # 3. Loop through each hospital in the hospital_list list for the current system\n",
    "        for hospital in hospital_list:\n",
    "            \n",
    "            # 4. Add the system and hospital name as a two-item list to our output\n",
    "            output.append([system, hospital])\n",
    "            \n",
    "    # Then return our output\n",
    "    return output"
   ]
  },
  {
   "cell_type": "code",
   "execution_count": null,
   "metadata": {},
   "outputs": [],
   "source": [
    "systems = {\n",
    "  'BJC': ['Missouri Baptist Hospital','Barnes Hospital','St. Peters Hospital'],\n",
    "  'Mercy': ['Mercy St. Louis','Mercy Springfield','Mercy Joplin','Mercy Oklahoma City'],\n",
    "  'SSM': ['SLU Hospital','DePaul Hospital']\n",
    "}\n",
    "\n",
    "systems2hospitals(systems)"
   ]
  },
  {
   "cell_type": "markdown",
   "metadata": {},
   "source": [
    "---"
   ]
  },
  {
   "cell_type": "markdown",
   "metadata": {},
   "source": [
    "# Transforming a list to a dictionary\n",
    "\n",
    "For this example, we will flip this same scenario around.  We have the list of a bunch of `[system, hospital]` pairs and we want to transform it into a dictionary with one key for each system and a list of the hospitals for that system as the value.\n",
    "\n",
    "Here's the algorithm:\n",
    "1. Since we want our output to be a dictionary, start by creating a variable that's just an empty dictionary\n",
    "2. Then, loop through the list of hospitals and starting filling up our dictionary\n",
    "3.   The first thing to do is see if our dictionary already has an entry for the system we're on\n",
    "4.   If the dictionary does not have one, create it with the value of empty list\n",
    "5.   Then append the current hospital name to value for that dictionary item\n",
    "\n",
    "For this one, I'll just write the code without the annotations."
   ]
  },
  {
   "cell_type": "code",
   "execution_count": null,
   "metadata": {},
   "outputs": [],
   "source": [
    "hospitals = [['BJC', 'Missouri Baptist Hospital'],\n",
    " ['BJC', 'Barnes Hospital'],\n",
    " ['BJC', 'St. Peters Hospital'],\n",
    " ['Mercy', 'Mercy St. Louis'],\n",
    " ['Mercy', 'Mercy Springfield'],\n",
    " ['Mercy', 'Mercy Joplin'],\n",
    " ['Mercy', 'Mercy Oklahoma City'],\n",
    " ['SSM', 'SLU Hospital'],\n",
    " ['SSM', 'DePaul Hospital']]"
   ]
  },
  {
   "cell_type": "code",
   "execution_count": null,
   "metadata": {},
   "outputs": [],
   "source": [
    "def hospitals2systems(hospitals):\n",
    "    output = {}\n",
    "    for hospital in hospitals:\n",
    "        system = hospital[0]\n",
    "        name = hospital[1]\n",
    "        \n",
    "        if system not in output.keys():\n",
    "            output[system] = []\n",
    "        output[system].append(name)\n",
    "        \n",
    "    return output"
   ]
  },
  {
   "cell_type": "code",
   "execution_count": null,
   "metadata": {},
   "outputs": [],
   "source": [
    "hospitals2systems(hospitals)"
   ]
  },
  {
   "cell_type": "code",
   "execution_count": null,
   "metadata": {},
   "outputs": [],
   "source": []
  }
 ],
 "metadata": {
  "kernelspec": {
   "display_name": "Python 3",
   "language": "python",
   "name": "python3"
  },
  "language_info": {
   "codemirror_mode": {
    "name": "ipython",
    "version": 3
   },
   "file_extension": ".py",
   "mimetype": "text/x-python",
   "name": "python",
   "nbconvert_exporter": "python",
   "pygments_lexer": "ipython3",
   "version": "3.6.7"
  }
 },
 "nbformat": 4,
 "nbformat_minor": 4
}
