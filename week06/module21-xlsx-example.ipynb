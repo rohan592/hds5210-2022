{
 "cells": [
  {
   "cell_type": "markdown",
   "metadata": {},
   "source": [
    "# Using openpyxl"
   ]
  },
  {
   "cell_type": "code",
   "execution_count": 1,
   "metadata": {},
   "outputs": [],
   "source": [
    "from openpyxl import load_workbook\n",
    "EXCEL_FILE=\"/data/Health-Care-Data-Sets.xlsx\""
   ]
  },
  {
   "cell_type": "code",
   "execution_count": 2,
   "metadata": {},
   "outputs": [],
   "source": [
    "wb = load_workbook(EXCEL_FILE)"
   ]
  },
  {
   "cell_type": "code",
   "execution_count": 3,
   "metadata": {},
   "outputs": [
    {
     "data": {
      "text/plain": [
       "[<Worksheet \"Sheet1\">]"
      ]
     },
     "execution_count": 3,
     "metadata": {},
     "output_type": "execute_result"
    }
   ],
   "source": [
    "wb.worksheets"
   ]
  },
  {
   "cell_type": "code",
   "execution_count": 4,
   "metadata": {},
   "outputs": [],
   "source": [
    "ws = wb.worksheets[0]"
   ]
  },
  {
   "cell_type": "code",
   "execution_count": 5,
   "metadata": {},
   "outputs": [
    {
     "data": {
      "text/plain": [
       "'Availability'"
      ]
     },
     "execution_count": 5,
     "metadata": {},
     "output_type": "execute_result"
    }
   ],
   "source": [
    "ws.cell(1,4).value"
   ]
  },
  {
   "cell_type": "markdown",
   "metadata": {},
   "source": [
    "# Using Pandas"
   ]
  },
  {
   "cell_type": "code",
   "execution_count": 6,
   "metadata": {},
   "outputs": [],
   "source": [
    "import pandas as pd"
   ]
  },
  {
   "cell_type": "code",
   "execution_count": 7,
   "metadata": {},
   "outputs": [],
   "source": [
    "data = pd.read_excel(EXCEL_FILE)"
   ]
  },
  {
   "cell_type": "code",
   "execution_count": 8,
   "metadata": {},
   "outputs": [
    {
     "data": {
      "text/html": [
       "<div>\n",
       "<style scoped>\n",
       "    .dataframe tbody tr th:only-of-type {\n",
       "        vertical-align: middle;\n",
       "    }\n",
       "\n",
       "    .dataframe tbody tr th {\n",
       "        vertical-align: top;\n",
       "    }\n",
       "\n",
       "    .dataframe thead th {\n",
       "        text-align: right;\n",
       "    }\n",
       "</style>\n",
       "<table border=\"1\" class=\"dataframe\">\n",
       "  <thead>\n",
       "    <tr style=\"text-align: right;\">\n",
       "      <th></th>\n",
       "      <th>Name</th>\n",
       "      <th>Link</th>\n",
       "      <th>Description</th>\n",
       "      <th>Availability</th>\n",
       "      <th>Relevant Papers</th>\n",
       "    </tr>\n",
       "  </thead>\n",
       "  <tbody>\n",
       "    <tr>\n",
       "      <th>0</th>\n",
       "      <td>ADNI (Alzheimer's Disease Neuro-Imaging Initia...</td>\n",
       "      <td>http://www.adni-info.org/Scientists/ADNIScient...</td>\n",
       "      <td>Image, clinical, and genetic data for Alzheime...</td>\n",
       "      <td>Free but need to request</td>\n",
       "      <td>http://portal.acm.org/citation.cfm?id=1402012</td>\n",
       "    </tr>\n",
       "    <tr>\n",
       "      <th>1</th>\n",
       "      <td>Texas Hospital Inpatient Discharge Public</td>\n",
       "      <td>http://www.dshs.state.tx.us/thcic/hospitals/Ho...</td>\n",
       "      <td>The Public Use Data File contains data on disc...</td>\n",
       "      <td>Old years are free; New years available on req...</td>\n",
       "      <td>NaN</td>\n",
       "    </tr>\n",
       "    <tr>\n",
       "      <th>2</th>\n",
       "      <td>The Dartmouth Atlas of Health Care</td>\n",
       "      <td>http://www.dartmouthatlas.org/</td>\n",
       "      <td>Medicare data that contains information and an...</td>\n",
       "      <td>Free</td>\n",
       "      <td>http://www.dartmouthatlas.org/publications/</td>\n",
       "    </tr>\n",
       "    <tr>\n",
       "      <th>3</th>\n",
       "      <td>Data Sources from Second Workshop on Data Mini...</td>\n",
       "      <td>http://phpartners.org/health_stats.html#Nation...</td>\n",
       "      <td>Data sets used for the papers in this workshop</td>\n",
       "      <td>Free</td>\n",
       "      <td>NaN</td>\n",
       "    </tr>\n",
       "    <tr>\n",
       "      <th>4</th>\n",
       "      <td>NIH Data Sets</td>\n",
       "      <td>http://www.nlm.nih.gov/hsrinfo/datasites.html</td>\n",
       "      <td>A large collection of data sets on various asp...</td>\n",
       "      <td>Free</td>\n",
       "      <td>NaN</td>\n",
       "    </tr>\n",
       "    <tr>\n",
       "      <th>5</th>\n",
       "      <td>Drug and Substance Abuse Data Sets</td>\n",
       "      <td>http://www.icpsr.umich.edu/icpsrweb/SAMHDA/dow...</td>\n",
       "      <td>Various data sets related to drug and substanc...</td>\n",
       "      <td>Free</td>\n",
       "      <td>http://www.icpsr.umich.edu/icpsrweb/SAMHDA/pub...</td>\n",
       "    </tr>\n",
       "    <tr>\n",
       "      <th>6</th>\n",
       "      <td>Agency for Health care Research and Quality</td>\n",
       "      <td>http://www.ahrq.gov/data/dataresources.htm</td>\n",
       "      <td>Contains a list of data sources on the followi...</td>\n",
       "      <td>Free</td>\n",
       "      <td>NaN</td>\n",
       "    </tr>\n",
       "    <tr>\n",
       "      <th>7</th>\n",
       "      <td>Behavioral Risk Factor Surveillance System (BR...</td>\n",
       "      <td>http://www.cdc.gov/brfss/</td>\n",
       "      <td>Health care survey data from 1984-2009-contain...</td>\n",
       "      <td>Free</td>\n",
       "      <td>http://www.cdc.gov/brfss/pubs/index.htm</td>\n",
       "    </tr>\n",
       "    <tr>\n",
       "      <th>8</th>\n",
       "      <td>Framingham Health Care Data Set</td>\n",
       "      <td>http://www.framinghamheartstudy.org/share/inde...</td>\n",
       "      <td>Identifies the common factors that contribute ...</td>\n",
       "      <td>Free but need to request</td>\n",
       "      <td>http://www.framinghamheartstudy.org/biblio/ind...</td>\n",
       "    </tr>\n",
       "    <tr>\n",
       "      <th>9</th>\n",
       "      <td>Laboratory for Neuro-Imaging (UCLA)</td>\n",
       "      <td>https://ida.loni.ucla.edu/services/Menu/IdaDat...</td>\n",
       "      <td>The Image Data Archive houses data for dozens ...</td>\n",
       "      <td>Data for certain projects free and available o...</td>\n",
       "      <td>NaN</td>\n",
       "    </tr>\n",
       "    <tr>\n",
       "      <th>10</th>\n",
       "      <td>Heritage Health care Prize</td>\n",
       "      <td>http://www.heritagehealthprize.com/</td>\n",
       "      <td>Heritage launched the $3 million Heritage Heal...</td>\n",
       "      <td>Free</td>\n",
       "      <td>NaN</td>\n",
       "    </tr>\n",
       "    <tr>\n",
       "      <th>11</th>\n",
       "      <td>Behavioral Risk Factor Surveillance System (BR...</td>\n",
       "      <td>http://www.cdc.gov/brfss/</td>\n",
       "      <td>Health care survey data from 1984-2009; contai...</td>\n",
       "      <td>Free</td>\n",
       "      <td>http://www.cdc.gov/brfss/pubs/index.htm</td>\n",
       "    </tr>\n",
       "    <tr>\n",
       "      <th>12</th>\n",
       "      <td>Stanford Micro-Array Database</td>\n",
       "      <td>http://smd.stanford.edu/</td>\n",
       "      <td>Can access data for a particular species</td>\n",
       "      <td>Free</td>\n",
       "      <td>http://smd.stanford.edu/cgi-bin/tools/display/...</td>\n",
       "    </tr>\n",
       "    <tr>\n",
       "      <th>13</th>\n",
       "      <td>Stanford Genomic Resources</td>\n",
       "      <td>http://genome-www.stanford.edu/</td>\n",
       "      <td>Genome data available for different diseases</td>\n",
       "      <td>Free</td>\n",
       "      <td>NaN</td>\n",
       "    </tr>\n",
       "    <tr>\n",
       "      <th>14</th>\n",
       "      <td>World Health Organization Data Sets</td>\n",
       "      <td>http://apps.who.int/ghodata/</td>\n",
       "      <td>Regional economic data</td>\n",
       "      <td>Free</td>\n",
       "      <td>NaN</td>\n",
       "    </tr>\n",
       "    <tr>\n",
       "      <th>15</th>\n",
       "      <td>World Bank Health Care Data Sets</td>\n",
       "      <td>http://data.worldbank.org/country</td>\n",
       "      <td>Regional economic data</td>\n",
       "      <td>Free</td>\n",
       "      <td>NaN</td>\n",
       "    </tr>\n",
       "  </tbody>\n",
       "</table>\n",
       "</div>"
      ],
      "text/plain": [
       "                                                 Name  \\\n",
       "0   ADNI (Alzheimer's Disease Neuro-Imaging Initia...   \n",
       "1           Texas Hospital Inpatient Discharge Public   \n",
       "2                  The Dartmouth Atlas of Health Care   \n",
       "3   Data Sources from Second Workshop on Data Mini...   \n",
       "4                                       NIH Data Sets   \n",
       "5                  Drug and Substance Abuse Data Sets   \n",
       "6         Agency for Health care Research and Quality   \n",
       "7   Behavioral Risk Factor Surveillance System (BR...   \n",
       "8                     Framingham Health Care Data Set   \n",
       "9                 Laboratory for Neuro-Imaging (UCLA)   \n",
       "10                         Heritage Health care Prize   \n",
       "11  Behavioral Risk Factor Surveillance System (BR...   \n",
       "12                      Stanford Micro-Array Database   \n",
       "13                         Stanford Genomic Resources   \n",
       "14                World Health Organization Data Sets   \n",
       "15                   World Bank Health Care Data Sets   \n",
       "\n",
       "                                                 Link  \\\n",
       "0   http://www.adni-info.org/Scientists/ADNIScient...   \n",
       "1   http://www.dshs.state.tx.us/thcic/hospitals/Ho...   \n",
       "2                      http://www.dartmouthatlas.org/   \n",
       "3   http://phpartners.org/health_stats.html#Nation...   \n",
       "4       http://www.nlm.nih.gov/hsrinfo/datasites.html   \n",
       "5   http://www.icpsr.umich.edu/icpsrweb/SAMHDA/dow...   \n",
       "6          http://www.ahrq.gov/data/dataresources.htm   \n",
       "7                           http://www.cdc.gov/brfss/   \n",
       "8   http://www.framinghamheartstudy.org/share/inde...   \n",
       "9   https://ida.loni.ucla.edu/services/Menu/IdaDat...   \n",
       "10                http://www.heritagehealthprize.com/   \n",
       "11                          http://www.cdc.gov/brfss/   \n",
       "12                           http://smd.stanford.edu/   \n",
       "13                    http://genome-www.stanford.edu/   \n",
       "14                       http://apps.who.int/ghodata/   \n",
       "15                  http://data.worldbank.org/country   \n",
       "\n",
       "                                          Description  \\\n",
       "0   Image, clinical, and genetic data for Alzheime...   \n",
       "1   The Public Use Data File contains data on disc...   \n",
       "2   Medicare data that contains information and an...   \n",
       "3      Data sets used for the papers in this workshop   \n",
       "4   A large collection of data sets on various asp...   \n",
       "5   Various data sets related to drug and substanc...   \n",
       "6   Contains a list of data sources on the followi...   \n",
       "7   Health care survey data from 1984-2009-contain...   \n",
       "8   Identifies the common factors that contribute ...   \n",
       "9   The Image Data Archive houses data for dozens ...   \n",
       "10  Heritage launched the $3 million Heritage Heal...   \n",
       "11  Health care survey data from 1984-2009; contai...   \n",
       "12           Can access data for a particular species   \n",
       "13       Genome data available for different diseases   \n",
       "14                             Regional economic data   \n",
       "15                             Regional economic data   \n",
       "\n",
       "                                         Availability  \\\n",
       "0                            Free but need to request   \n",
       "1   Old years are free; New years available on req...   \n",
       "2                                                Free   \n",
       "3                                                Free   \n",
       "4                                                Free   \n",
       "5                                                Free   \n",
       "6                                                Free   \n",
       "7                                                Free   \n",
       "8                            Free but need to request   \n",
       "9   Data for certain projects free and available o...   \n",
       "10                                               Free   \n",
       "11                                               Free   \n",
       "12                                               Free   \n",
       "13                                               Free   \n",
       "14                                               Free   \n",
       "15                                               Free   \n",
       "\n",
       "                                     Relevant Papers   \n",
       "0       http://portal.acm.org/citation.cfm?id=1402012  \n",
       "1                                                 NaN  \n",
       "2         http://www.dartmouthatlas.org/publications/  \n",
       "3                                                 NaN  \n",
       "4                                                 NaN  \n",
       "5   http://www.icpsr.umich.edu/icpsrweb/SAMHDA/pub...  \n",
       "6                                                 NaN  \n",
       "7             http://www.cdc.gov/brfss/pubs/index.htm  \n",
       "8   http://www.framinghamheartstudy.org/biblio/ind...  \n",
       "9                                                 NaN  \n",
       "10                                                NaN  \n",
       "11            http://www.cdc.gov/brfss/pubs/index.htm  \n",
       "12  http://smd.stanford.edu/cgi-bin/tools/display/...  \n",
       "13                                                NaN  \n",
       "14                                                NaN  \n",
       "15                                                NaN  "
      ]
     },
     "execution_count": 8,
     "metadata": {},
     "output_type": "execute_result"
    }
   ],
   "source": [
    "data"
   ]
  },
  {
   "cell_type": "code",
   "execution_count": null,
   "metadata": {},
   "outputs": [],
   "source": []
  }
 ],
 "metadata": {
  "kernelspec": {
   "display_name": "Python 3",
   "language": "python",
   "name": "python3"
  },
  "language_info": {
   "codemirror_mode": {
    "name": "ipython",
    "version": 3
   },
   "file_extension": ".py",
   "mimetype": "text/x-python",
   "name": "python",
   "nbconvert_exporter": "python",
   "pygments_lexer": "ipython3",
   "version": "3.6.7"
  }
 },
 "nbformat": 4,
 "nbformat_minor": 2
}
