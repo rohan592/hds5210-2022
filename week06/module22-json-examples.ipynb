{
 "cells": [
  {
   "cell_type": "markdown",
   "metadata": {},
   "source": [
    "# The json module"
   ]
  },
  {
   "cell_type": "code",
   "execution_count": null,
   "metadata": {},
   "outputs": [],
   "source": [
    "import json"
   ]
  },
  {
   "cell_type": "code",
   "execution_count": null,
   "metadata": {},
   "outputs": [],
   "source": [
    "family = '{\"Lester-Boal\": [\"Paul\", \"Ada\", \"Teddy\"]}'"
   ]
  },
  {
   "cell_type": "code",
   "execution_count": null,
   "metadata": {},
   "outputs": [],
   "source": [
    "family"
   ]
  },
  {
   "cell_type": "code",
   "execution_count": null,
   "metadata": {},
   "outputs": [],
   "source": [
    "json.loads(family)"
   ]
  },
  {
   "cell_type": "code",
   "execution_count": null,
   "metadata": {},
   "outputs": [],
   "source": [
    "f = json.loads(family)"
   ]
  },
  {
   "cell_type": "code",
   "execution_count": null,
   "metadata": {},
   "outputs": [],
   "source": [
    "type(f)"
   ]
  },
  {
   "cell_type": "code",
   "execution_count": null,
   "metadata": {},
   "outputs": [],
   "source": [
    "type(f.get('Lester-Boal'))"
   ]
  },
  {
   "cell_type": "code",
   "execution_count": null,
   "metadata": {},
   "outputs": [],
   "source": []
  },
  {
   "cell_type": "markdown",
   "metadata": {},
   "source": [
    "# Hospitals Example"
   ]
  },
  {
   "cell_type": "code",
   "execution_count": 1,
   "metadata": {},
   "outputs": [],
   "source": [
    "import json\n",
    "from pathlib import Path\n",
    "HOSPITAL_FILE=\"/data/hospitals.json\""
   ]
  },
  {
   "cell_type": "code",
   "execution_count": 2,
   "metadata": {},
   "outputs": [],
   "source": [
    "systems = json.load(open(HOSPITAL_FILE))"
   ]
  },
  {
   "cell_type": "code",
   "execution_count": 3,
   "metadata": {},
   "outputs": [
    {
     "data": {
      "text/plain": [
       "[{'System': 'BJC',\n",
       "  'Hospitals': [{'Beds': 1432, 'Hospital': 'BJH', 'City': 'St. Louis'},\n",
       "   {'Beds': 1107, 'Hospital': 'MOBap', 'City': 'Creve Coeur'}]},\n",
       " {'System': 'SSM',\n",
       "  'Hospitals': [{'Beds': 965, 'Hospital': 'SLUH', 'City': 'St. Louis'}]},\n",
       " {'System': 'Mercy',\n",
       "  'Hospitals': [{'Beds': 983,\n",
       "    'Hospital': 'Mercy STL',\n",
       "    'City': 'Creve Coeur'}]}]"
      ]
     },
     "execution_count": 3,
     "metadata": {},
     "output_type": "execute_result"
    }
   ],
   "source": [
    "systems"
   ]
  },
  {
   "cell_type": "code",
   "execution_count": 6,
   "metadata": {},
   "outputs": [
    {
     "data": {
      "text/plain": [
       "{'System': 'BJC',\n",
       " 'Hospitals': [{'Beds': 1432, 'Hospital': 'BJH', 'City': 'St. Louis'},\n",
       "  {'Beds': 1107, 'Hospital': 'MOBap', 'City': 'Creve Coeur'}]}"
      ]
     },
     "execution_count": 6,
     "metadata": {},
     "output_type": "execute_result"
    }
   ],
   "source": [
    "systems[0]"
   ]
  },
  {
   "cell_type": "code",
   "execution_count": 10,
   "metadata": {},
   "outputs": [
    {
     "name": "stdout",
     "output_type": "stream",
     "text": [
      "Hospital BJH has 1432\n",
      "Hospital MOBap has 1107\n",
      "Hospital SLUH has 965\n",
      "Hospital Mercy STL has 983\n",
      "4487\n"
     ]
    }
   ],
   "source": [
    "total_beds = 0\n",
    "\n",
    "for system in systems:\n",
    "    hospitals = system.get('Hospitals')\n",
    "    for hospital in hospitals:\n",
    "        print(f\"Hospital {hospital.get('Hospital')} has {hospital.get('Beds')}\")\n",
    "        total_beds += hospital.get('Beds')\n",
    "        \n",
    "print(total_beds)"
   ]
  },
  {
   "cell_type": "code",
   "execution_count": 11,
   "metadata": {},
   "outputs": [
    {
     "name": "stdout",
     "output_type": "stream",
     "text": [
      "BJH is in St. Louis and has 1432 beds\n",
      "MOBap is in Creve Coeur and has 1107 beds\n",
      "SLUH is in St. Louis and has 965 beds\n",
      "Mercy STL is in Creve Coeur and has 983 beds\n",
      "{'St. Louis': 2397, 'Creve Coeur': 2090}\n"
     ]
    }
   ],
   "source": [
    "beds_per_city = {}\n",
    "\n",
    "for system in systems:\n",
    "    for hospital in system.get('Hospitals'):\n",
    "        city = hospital.get('City')\n",
    "        beds = hospital.get('Beds')\n",
    "        beds_per_city.setdefault(city, 0)\n",
    "        print(f\"{hospital.get('Hospital')} is in {city} and has {beds} beds\")\n",
    "        beds_per_city[city] += beds\n",
    "        \n",
    "print(beds_per_city)"
   ]
  },
  {
   "cell_type": "markdown",
   "metadata": {},
   "source": [
    "```\n",
    "{\n",
    "  \"St. Louis\": 2397,\n",
    "  \"Creve Coeur\": 2090\n",
    "}\n",
    "```"
   ]
  },
  {
   "cell_type": "code",
   "execution_count": 12,
   "metadata": {},
   "outputs": [
    {
     "name": "stdout",
     "output_type": "stream",
     "text": [
      "{\n",
      "    \"St. Louis\": 2397,\n",
      "    \"Creve Coeur\": 2090\n",
      "}\n"
     ]
    }
   ],
   "source": [
    "print(json.dumps(beds_per_city, indent=4))"
   ]
  },
  {
   "cell_type": "code",
   "execution_count": null,
   "metadata": {},
   "outputs": [],
   "source": [
    "print(json.dumps(systems, indent=4))"
   ]
  },
  {
   "cell_type": "markdown",
   "metadata": {},
   "source": [
    "# Loading JSON from a file"
   ]
  },
  {
   "cell_type": "code",
   "execution_count": 13,
   "metadata": {},
   "outputs": [],
   "source": [
    "PATIENT_FILE='/data/patient.json'\n",
    "\n",
    "with open(PATIENT_FILE) as f:\n",
    "    patient = json.load(f)"
   ]
  },
  {
   "cell_type": "code",
   "execution_count": 14,
   "metadata": {},
   "outputs": [
    {
     "data": {
      "text/plain": [
       "dict"
      ]
     },
     "execution_count": 14,
     "metadata": {},
     "output_type": "execute_result"
    }
   ],
   "source": [
    "type(patient)"
   ]
  },
  {
   "cell_type": "code",
   "execution_count": 15,
   "metadata": {},
   "outputs": [
    {
     "data": {
      "text/plain": [
       "{'resourceType': 'Patient',\n",
       " 'id': 'example',\n",
       " 'identifier': [{'use': 'usual',\n",
       "   'type': {'coding': [{'system': 'http://terminology.hl7.org/CodeSystem/v2-0203',\n",
       "      'code': 'MR'}]},\n",
       "   'system': 'urn:oid:1.2.36.146.595.217.0.1',\n",
       "   'value': '12345',\n",
       "   'period': {'start': '2001-05-06'},\n",
       "   'assigner': {'display': 'Acme Healthcare'}}],\n",
       " 'active': True,\n",
       " 'name': [{'use': 'official',\n",
       "   'family': 'Chalmers',\n",
       "   'given': ['Peter', 'James']},\n",
       "  {'use': 'usual', 'given': ['Jim']},\n",
       "  {'use': 'maiden',\n",
       "   'family': 'Windsor',\n",
       "   'given': ['Peter', 'James'],\n",
       "   'period': {'end': '2002'}}],\n",
       " 'telecom': [{'use': 'home'},\n",
       "  {'system': 'phone', 'value': '(03) 5555 6473', 'use': 'work', 'rank': 1},\n",
       "  {'system': 'phone', 'value': '(03) 3410 5613', 'use': 'mobile', 'rank': 2},\n",
       "  {'system': 'phone',\n",
       "   'value': '(03) 5555 8834',\n",
       "   'use': 'old',\n",
       "   'period': {'end': '2014'}}],\n",
       " 'gender': 'male',\n",
       " 'birthDate': '1974-12-25',\n",
       " '_birthDate': {'extension': [{'url': 'http://hl7.org/fhir/StructureDefinition/patient-birthTime',\n",
       "    'valueDateTime': '1974-12-25T14:35:45-05:00'}]},\n",
       " 'deceasedBoolean': False,\n",
       " 'address': [{'use': 'home',\n",
       "   'type': 'both',\n",
       "   'text': '534 Erewhon St PeasantVille, Rainbow, Vic  3999',\n",
       "   'line': ['534 Erewhon St'],\n",
       "   'city': 'PleasantVille',\n",
       "   'district': 'Rainbow',\n",
       "   'state': 'Vic',\n",
       "   'postalCode': '3999',\n",
       "   'period': {'start': '1974-12-25'}}],\n",
       " 'contact': [{'relationship': [{'coding': [{'system': 'http://terminology.hl7.org/CodeSystem/v2-0131',\n",
       "       'code': 'N'}]}],\n",
       "   'name': {'family': 'du Marché',\n",
       "    '_family': {'extension': [{'url': 'http://hl7.org/fhir/StructureDefinition/humanname-own-prefix',\n",
       "       'valueString': 'VV'}]},\n",
       "    'given': ['Bénédicte']},\n",
       "   'telecom': [{'system': 'phone', 'value': '+33 (237) 998327'}],\n",
       "   'address': {'use': 'home',\n",
       "    'type': 'both',\n",
       "    'line': ['534 Erewhon St'],\n",
       "    'city': 'PleasantVille',\n",
       "    'district': 'Rainbow',\n",
       "    'state': 'Vic',\n",
       "    'postalCode': '3999',\n",
       "    'period': {'start': '1974-12-25'}},\n",
       "   'gender': 'female',\n",
       "   'period': {'start': '2012'}}],\n",
       " 'managingOrganization': {'reference': 'Organization/1'}}"
      ]
     },
     "execution_count": 15,
     "metadata": {},
     "output_type": "execute_result"
    }
   ],
   "source": [
    "patient"
   ]
  },
  {
   "cell_type": "code",
   "execution_count": null,
   "metadata": {},
   "outputs": [],
   "source": [
    "print(json.dumps(patient, indent=4))"
   ]
  },
  {
   "cell_type": "code",
   "execution_count": null,
   "metadata": {},
   "outputs": [],
   "source": [
    "patient.get('resourceType')"
   ]
  },
  {
   "cell_type": "code",
   "execution_count": null,
   "metadata": {},
   "outputs": [],
   "source": []
  },
  {
   "cell_type": "markdown",
   "metadata": {},
   "source": [
    "# Practical Example\n",
    "\n",
    "Let's get all the phone numbers from the patient JSON file.\n"
   ]
  },
  {
   "cell_type": "code",
   "execution_count": 16,
   "metadata": {},
   "outputs": [
    {
     "data": {
      "text/plain": [
       "[{'use': 'home'},\n",
       " {'system': 'phone', 'value': '(03) 5555 6473', 'use': 'work', 'rank': 1},\n",
       " {'system': 'phone', 'value': '(03) 3410 5613', 'use': 'mobile', 'rank': 2},\n",
       " {'system': 'phone',\n",
       "  'value': '(03) 5555 8834',\n",
       "  'use': 'old',\n",
       "  'period': {'end': '2014'}}]"
      ]
     },
     "execution_count": 16,
     "metadata": {},
     "output_type": "execute_result"
    }
   ],
   "source": [
    "patient.get('telecom')"
   ]
  },
  {
   "cell_type": "code",
   "execution_count": 17,
   "metadata": {},
   "outputs": [],
   "source": [
    "numbers = patient.get('telecom')"
   ]
  },
  {
   "cell_type": "code",
   "execution_count": 18,
   "metadata": {},
   "outputs": [],
   "source": [
    "numbers = patient.get('telecom')\n",
    "active_numbers = []\n",
    "\n",
    "for value in numbers:\n",
    "    if value.get('system') == 'phone' and value.get('use') != 'old':\n",
    "        active_numbers.append(value.get('value'))"
   ]
  },
  {
   "cell_type": "code",
   "execution_count": 19,
   "metadata": {},
   "outputs": [
    {
     "data": {
      "text/plain": [
       "['(03) 5555 6473', '(03) 3410 5613']"
      ]
     },
     "execution_count": 19,
     "metadata": {},
     "output_type": "execute_result"
    }
   ],
   "source": [
    "active_numbers"
   ]
  },
  {
   "cell_type": "code",
   "execution_count": null,
   "metadata": {},
   "outputs": [],
   "source": [
    "patient.get('contact')[0].get('telecom')[0].get('value')"
   ]
  },
  {
   "cell_type": "code",
   "execution_count": null,
   "metadata": {},
   "outputs": [],
   "source": []
  },
  {
   "cell_type": "markdown",
   "metadata": {},
   "source": [
    "# Whiteriver.json"
   ]
  },
  {
   "cell_type": "code",
   "execution_count": 20,
   "metadata": {},
   "outputs": [],
   "source": [
    "import json\n",
    "wr = open('/data/whiteriver.json')\n",
    "pricing = json.load(wr)"
   ]
  },
  {
   "cell_type": "code",
   "execution_count": 23,
   "metadata": {},
   "outputs": [
    {
     "data": {
      "text/plain": [
       "dict_keys(['HospitalorFacilityName', 'PricesPostedandEffective', 'Notes', 'StandardCharges'])"
      ]
     },
     "execution_count": 23,
     "metadata": {},
     "output_type": "execute_result"
    }
   ],
   "source": [
    "pricing['root'].keys()"
   ]
  },
  {
   "cell_type": "code",
   "execution_count": 24,
   "metadata": {},
   "outputs": [],
   "source": [
    "charges = pricing['root']['StandardCharges']"
   ]
  },
  {
   "cell_type": "code",
   "execution_count": 25,
   "metadata": {},
   "outputs": [],
   "source": [
    "procedures = set()\n",
    "for charge in charges:\n",
    "    procedures.add(charge['ProcedureCode'])"
   ]
  },
  {
   "cell_type": "code",
   "execution_count": 27,
   "metadata": {},
   "outputs": [
    {
     "data": {
      "text/plain": [
       "100"
      ]
     },
     "execution_count": 27,
     "metadata": {},
     "output_type": "execute_result"
    }
   ],
   "source": [
    "len(procedures)"
   ]
  },
  {
   "cell_type": "code",
   "execution_count": 31,
   "metadata": {},
   "outputs": [],
   "source": [
    "pcts = []\n",
    "\n",
    "for charge in charges:\n",
    "    aetna = float(charge.get('AETNA_Outpatient'))\n",
    "    qualchoice = float(charge.get('QUALCHOICE_Outpatient'))\n",
    "    pct_higher = aetna / qualchoice\n",
    "    pcts.append(pct_higher)\n",
    "        \n"
   ]
  },
  {
   "cell_type": "code",
   "execution_count": 32,
   "metadata": {},
   "outputs": [
    {
     "data": {
      "text/plain": [
       "[1.5714285714285716,\n",
       " 1.5714285714285714,\n",
       " 1.5714285714285714,\n",
       " 1.5714285714285716,\n",
       " 1.5714285714285714,\n",
       " 1.5714285714285716,\n",
       " 1.5714285714285716,\n",
       " 1.5714285714285716,\n",
       " 1.5714285714285716,\n",
       " 1.5714285714285716,\n",
       " 1.5714285714285716,\n",
       " 1.5714285714285716,\n",
       " 1.5714285714285714,\n",
       " 1.5714285714285714,\n",
       " 1.5714285714285714,\n",
       " 1.5714285714285716,\n",
       " 1.5714285714285714,\n",
       " 1.5714285714285714,\n",
       " 1.5714285714285716,\n",
       " 1.5714285714285716,\n",
       " 1.5714285714285716,\n",
       " 1.5714285714285712,\n",
       " 1.5714285714285716,\n",
       " 1.5714285714285714,\n",
       " 1.5714285714285714,\n",
       " 1.5714285714285716,\n",
       " 1.5714285714285714,\n",
       " 1.5714285714285714,\n",
       " 1.5714285714285714,\n",
       " 1.5714285714285714,\n",
       " 1.5714285714285714,\n",
       " 1.5714285714285714,\n",
       " 1.5714285714285712,\n",
       " 1.5714285714285712,\n",
       " 1.5714285714285714,\n",
       " 1.5714285714285712,\n",
       " 1.5714285714285712,\n",
       " 1.5714285714285714,\n",
       " 1.5714285714285714,\n",
       " 1.5714285714285714,\n",
       " 1.5714285714285714,\n",
       " 1.5714285714285716,\n",
       " 1.5714285714285714,\n",
       " 1.5714285714285716,\n",
       " 1.5714285714285716,\n",
       " 1.5714285714285714,\n",
       " 1.5714285714285714,\n",
       " 1.5714285714285714,\n",
       " 1.5714285714285714,\n",
       " 1.5714285714285714,\n",
       " 1.5714285714285714,\n",
       " 1.5714285714285714,\n",
       " 1.5714285714285714,\n",
       " 1.5714285714285714,\n",
       " 1.5714285714285714,\n",
       " 1.5714285714285716,\n",
       " 1.5714285714285716,\n",
       " 1.5714285714285714,\n",
       " 1.5714285714285714,\n",
       " 1.5714285714285714,\n",
       " 1.5714285714285714,\n",
       " 1.5714285714285714,\n",
       " 1.5714285714285714,\n",
       " 1.5714285714285716,\n",
       " 1.5714285714285714,\n",
       " 1.5714285714285714,\n",
       " 1.5714285714285714,\n",
       " 1.5714285714285714,\n",
       " 1.5714285714285716,\n",
       " 1.5714285714285712,\n",
       " 1.5714285714285716,\n",
       " 1.5714285714285714,\n",
       " 1.5714285714285716,\n",
       " 1.5714285714285712,\n",
       " 1.5714285714285714,\n",
       " 1.5714285714285714,\n",
       " 1.5714285714285714,\n",
       " 1.5714285714285714,\n",
       " 1.5714285714285714,\n",
       " 1.5714285714285714,\n",
       " 1.5714285714285714,\n",
       " 1.5714285714285714,\n",
       " 1.5714285714285716,\n",
       " 1.5714285714285714,\n",
       " 1.5714285714285716,\n",
       " 1.5714285714285714,\n",
       " 1.5714285714285714,\n",
       " 1.5714285714285714,\n",
       " 1.5714285714285714,\n",
       " 1.5714285714285714,\n",
       " 1.5714285714285712,\n",
       " 1.5714285714285714,\n",
       " 1.5714285714285712,\n",
       " 1.5714285714285714,\n",
       " 1.5714285714285714,\n",
       " 1.5714285714285714,\n",
       " 1.5714285714285714,\n",
       " 1.5714285714285712,\n",
       " 1.5714285714285714,\n",
       " 1.5714285714285714]"
      ]
     },
     "execution_count": 32,
     "metadata": {},
     "output_type": "execute_result"
    }
   ],
   "source": [
    "pcts"
   ]
  },
  {
   "cell_type": "code",
   "execution_count": null,
   "metadata": {},
   "outputs": [],
   "source": []
  }
 ],
 "metadata": {
  "kernelspec": {
   "display_name": "Python 3",
   "language": "python",
   "name": "python3"
  },
  "language_info": {
   "codemirror_mode": {
    "name": "ipython",
    "version": 3
   },
   "file_extension": ".py",
   "mimetype": "text/x-python",
   "name": "python",
   "nbconvert_exporter": "python",
   "pygments_lexer": "ipython3",
   "version": "3.6.7"
  }
 },
 "nbformat": 4,
 "nbformat_minor": 2
}
