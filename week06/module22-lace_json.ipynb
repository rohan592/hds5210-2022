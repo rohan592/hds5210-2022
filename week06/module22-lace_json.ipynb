{
 "cells": [
  {
   "cell_type": "markdown",
   "metadata": {},
   "source": [
    "https://micmrc.org/system/files/LACE_tool%204.23.13.pdf"
   ]
  },
  {
   "cell_type": "code",
   "execution_count": 12,
   "metadata": {},
   "outputs": [],
   "source": [
    "import json\n",
    "\n",
    "def lace_los_score(los, config):\n",
    "    \"\"\"\n",
    "    Compute the LOS score using the LACE rules\n",
    "    in the rules in the config dictionary.\n",
    "    \"\"\"\n",
    "    \n",
    "    score = 0\n",
    "    \n",
    "    los_rule = rules.get('los_rule')\n",
    "    \n",
    "    for condition in los_rule:\n",
    "        if (condition.get('min') <= los):\n",
    "            if (condition.get('max') is None):\n",
    "                score = condition.get('score')\n",
    "            elif (condition.get('max') >= los):\n",
    "                score = condition.get('score')\n",
    "    \n",
    "    return score"
   ]
  },
  {
   "cell_type": "code",
   "execution_count": null,
   "metadata": {},
   "outputs": [],
   "source": [
    "def lace_acute_score(acute, config):\n",
    "    return 0"
   ]
  },
  {
   "cell_type": "code",
   "execution_count": null,
   "metadata": {},
   "outputs": [],
   "source": [
    "def lace_comorbidities_score(comorbidities, config):\n",
    "    return 0"
   ]
  },
  {
   "cell_type": "code",
   "execution_count": null,
   "metadata": {},
   "outputs": [],
   "source": [
    "def lace_emergency_score(emergency, config):\n",
    "    return 0"
   ]
  },
  {
   "cell_type": "code",
   "execution_count": null,
   "metadata": {},
   "outputs": [],
   "source": [
    "def lace_score(los, acute, comorbidities, emergency, config_file):\n",
    "    config = json.load(open(config_file))\n",
    "    \n",
    "    score = lace_los_score(los, config) +\n",
    "            lace_acute_score(acute, config) + \n",
    "            lace_comorbidities_score(comorbidities, config) +\n",
    "            lace_emergency_score(emergency, config)\n",
    "            \n",
    "    return score"
   ]
  }
 ],
 "metadata": {
  "kernelspec": {
   "display_name": "Python 3",
   "language": "python",
   "name": "python3"
  },
  "language_info": {
   "codemirror_mode": {
    "name": "ipython",
    "version": 3
   },
   "file_extension": ".py",
   "mimetype": "text/x-python",
   "name": "python",
   "nbconvert_exporter": "python",
   "pygments_lexer": "ipython3",
   "version": "3.7.1"
  }
 },
 "nbformat": 4,
 "nbformat_minor": 2
}
