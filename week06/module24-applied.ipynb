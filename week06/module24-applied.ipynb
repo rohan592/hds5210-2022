{
 "cells": [
  {
   "cell_type": "code",
   "execution_count": 1,
   "metadata": {},
   "outputs": [],
   "source": [
    "output=[['Jason Argonaut', 'PENICILLIN G', 'Hives'],\n",
    " ['Jason Argonaut', 'SHELLFISH-DERIVED PRODUCTS', 'Itching'],\n",
    " ['Jason Argonaut', 'STRAWBERRY', 'Anaphylaxis']]"
   ]
  },
  {
   "cell_type": "code",
   "execution_count": 2,
   "metadata": {},
   "outputs": [],
   "source": [
    "def allergy_reaction(json_file, substance):\n",
    "    #reactions = allergy_list(json_file)\n",
    "    reactions=[['Jason Argonaut', 'PENICILLIN G', 'Hives'],\n",
    "     ['Jason Argonaut', 'SHELLFISH-DERIVED PRODUCTS', 'Itching'],\n",
    "     ['Jason Argonaut', 'STRAWBERRY', 'Anaphylaxis']]\n",
    "    \n",
    "    for reaction in reactions:\n",
    "        if reaction[1].upper() == substance.upper():\n",
    "            return reaction[2]\n",
    "        \n",
    "    return None"
   ]
  },
  {
   "cell_type": "code",
   "execution_count": null,
   "metadata": {},
   "outputs": [],
   "source": [
    "def allergy_reaction(json_file, substance):\n",
    "\n",
    "    # If your allergy_list() function works correctly, you can use this line of code below\n",
    "    #reactions = allergy_list(json_file)\n",
    "    \n",
    "    # If your allergy_list() doesn't work, yet, then copy/paste the output that it should\n",
    "    # create and just put that in a variable.  You'll lose a point, but at least it will keep\n",
    "    # you moving forward.\n",
    "    reactions=[['Jason Argonaut', 'PENICILLIN G', 'Hives'],\n",
    "     ['Jason Argonaut', 'SHELLFISH-DERIVED PRODUCTS', 'Itching'],\n",
    "     ['Jason Argonaut', 'STRAWBERRY', 'Anaphylaxis']]\n",
    "\n",
    "    # PUT SOME CODE HERE\n",
    "    #\n",
    "    # Approach:\n",
    "    # You have a list called `reactions` of patients, substances, and reactions above\n",
    "    # What you need to do is find the entry from `reactions`\n",
    "    # where the substance matches whatever value is passed to the function's `substance` parameter\n",
    "    #\n",
    "    # You should loop through the list list of `reactions`\n",
    "    # If the item[1] value == `substance`,\n",
    "    # Then return the item[2] value (the reaction)\n",
    "        \n",
    "    return None"
   ]
  },
  {
   "cell_type": "code",
   "execution_count": 4,
   "metadata": {},
   "outputs": [
    {
     "data": {
      "text/plain": [
       "'Hives'"
      ]
     },
     "execution_count": 4,
     "metadata": {},
     "output_type": "execute_result"
    }
   ],
   "source": [
    "allergy_reaction(None, 'PENICILLIN G')"
   ]
  }
 ],
 "metadata": {
  "kernelspec": {
   "display_name": "Python 3",
   "language": "python",
   "name": "python3"
  },
  "language_info": {
   "codemirror_mode": {
    "name": "ipython",
    "version": 3
   },
   "file_extension": ".py",
   "mimetype": "text/x-python",
   "name": "python",
   "nbconvert_exporter": "python",
   "pygments_lexer": "ipython3",
   "version": "3.6.7"
  }
 },
 "nbformat": 4,
 "nbformat_minor": 2
}
