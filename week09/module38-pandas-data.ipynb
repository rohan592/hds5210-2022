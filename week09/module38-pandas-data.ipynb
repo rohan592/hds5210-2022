{
 "cells": [
  {
   "cell_type": "code",
   "execution_count": null,
   "metadata": {},
   "outputs": [],
   "source": []
  },
  {
   "cell_type": "markdown",
   "metadata": {},
   "source": [
    "# Creating Pandas dataframes"
   ]
  },
  {
   "cell_type": "code",
   "execution_count": 1,
   "metadata": {},
   "outputs": [],
   "source": [
    "import pandas as pd"
   ]
  },
  {
   "cell_type": "code",
   "execution_count": 2,
   "metadata": {},
   "outputs": [],
   "source": [
    "names = [\n",
    "    ['Paul','Boal','E'],\n",
    "    ['Eric','Westhus','D'],\n",
    "    ['Bill','Jones','A']\n",
    "    ]"
   ]
  },
  {
   "cell_type": "code",
   "execution_count": 4,
   "metadata": {},
   "outputs": [
    {
     "data": {
      "text/html": [
       "<div>\n",
       "<style scoped>\n",
       "    .dataframe tbody tr th:only-of-type {\n",
       "        vertical-align: middle;\n",
       "    }\n",
       "\n",
       "    .dataframe tbody tr th {\n",
       "        vertical-align: top;\n",
       "    }\n",
       "\n",
       "    .dataframe thead th {\n",
       "        text-align: right;\n",
       "    }\n",
       "</style>\n",
       "<table border=\"1\" class=\"dataframe\">\n",
       "  <thead>\n",
       "    <tr style=\"text-align: right;\">\n",
       "      <th></th>\n",
       "      <th>0</th>\n",
       "      <th>1</th>\n",
       "      <th>2</th>\n",
       "    </tr>\n",
       "  </thead>\n",
       "  <tbody>\n",
       "    <tr>\n",
       "      <th>0</th>\n",
       "      <td>Paul</td>\n",
       "      <td>Boal</td>\n",
       "      <td>E</td>\n",
       "    </tr>\n",
       "    <tr>\n",
       "      <th>1</th>\n",
       "      <td>Eric</td>\n",
       "      <td>Westhus</td>\n",
       "      <td>D</td>\n",
       "    </tr>\n",
       "    <tr>\n",
       "      <th>2</th>\n",
       "      <td>Bill</td>\n",
       "      <td>Jones</td>\n",
       "      <td>A</td>\n",
       "    </tr>\n",
       "  </tbody>\n",
       "</table>\n",
       "</div>"
      ],
      "text/plain": [
       "      0        1  2\n",
       "0  Paul     Boal  E\n",
       "1  Eric  Westhus  D\n",
       "2  Bill    Jones  A"
      ]
     },
     "execution_count": 4,
     "metadata": {},
     "output_type": "execute_result"
    }
   ],
   "source": [
    "pd.DataFrame(names)"
   ]
  },
  {
   "cell_type": "code",
   "execution_count": 4,
   "metadata": {},
   "outputs": [
    {
     "data": {
      "text/html": [
       "<div>\n",
       "<style scoped>\n",
       "    .dataframe tbody tr th:only-of-type {\n",
       "        vertical-align: middle;\n",
       "    }\n",
       "\n",
       "    .dataframe tbody tr th {\n",
       "        vertical-align: top;\n",
       "    }\n",
       "\n",
       "    .dataframe thead th {\n",
       "        text-align: right;\n",
       "    }\n",
       "</style>\n",
       "<table border=\"1\" class=\"dataframe\">\n",
       "  <thead>\n",
       "    <tr style=\"text-align: right;\">\n",
       "      <th></th>\n",
       "      <th>first</th>\n",
       "      <th>last</th>\n",
       "      <th>middle</th>\n",
       "    </tr>\n",
       "  </thead>\n",
       "  <tbody>\n",
       "    <tr>\n",
       "      <th>0</th>\n",
       "      <td>Paul</td>\n",
       "      <td>Boal</td>\n",
       "      <td>E</td>\n",
       "    </tr>\n",
       "    <tr>\n",
       "      <th>1</th>\n",
       "      <td>Eric</td>\n",
       "      <td>Westhus</td>\n",
       "      <td>D</td>\n",
       "    </tr>\n",
       "    <tr>\n",
       "      <th>2</th>\n",
       "      <td>Bill</td>\n",
       "      <td>Jones</td>\n",
       "      <td>A</td>\n",
       "    </tr>\n",
       "  </tbody>\n",
       "</table>\n",
       "</div>"
      ],
      "text/plain": [
       "  first     last middle\n",
       "0  Paul     Boal      E\n",
       "1  Eric  Westhus      D\n",
       "2  Bill    Jones      A"
      ]
     },
     "execution_count": 4,
     "metadata": {},
     "output_type": "execute_result"
    }
   ],
   "source": [
    "pd.DataFrame(names, columns=['first','last','middle'])"
   ]
  },
  {
   "cell_type": "code",
   "execution_count": 5,
   "metadata": {},
   "outputs": [],
   "source": [
    "data = pd.DataFrame(names, columns=['first','last','middle'])"
   ]
  },
  {
   "cell_type": "code",
   "execution_count": 6,
   "metadata": {},
   "outputs": [
    {
     "data": {
      "text/plain": [
       "0    Paul\n",
       "1    Eric\n",
       "2    Bill\n",
       "Name: first, dtype: object"
      ]
     },
     "execution_count": 6,
     "metadata": {},
     "output_type": "execute_result"
    }
   ],
   "source": [
    "data['first']"
   ]
  },
  {
   "cell_type": "code",
   "execution_count": 7,
   "metadata": {},
   "outputs": [
    {
     "data": {
      "text/plain": [
       "9"
      ]
     },
     "execution_count": 7,
     "metadata": {},
     "output_type": "execute_result"
    }
   ],
   "source": [
    "data.size"
   ]
  },
  {
   "cell_type": "code",
   "execution_count": null,
   "metadata": {},
   "outputs": [],
   "source": []
  },
  {
   "cell_type": "code",
   "execution_count": 8,
   "metadata": {},
   "outputs": [],
   "source": [
    "first_names = ['Paul','Eric','Bill']\n",
    "middle_names = ['E','D','A']\n",
    "last_names = ['Boal','Westhus','Jones']"
   ]
  },
  {
   "cell_type": "code",
   "execution_count": 9,
   "metadata": {},
   "outputs": [
    {
     "data": {
      "text/plain": [
       "[('Paul', 'E', 'Boal'), ('Eric', 'D', 'Westhus'), ('Bill', 'A', 'Jones')]"
      ]
     },
     "execution_count": 9,
     "metadata": {},
     "output_type": "execute_result"
    }
   ],
   "source": [
    "list(zip(first_names, middle_names, last_names))"
   ]
  },
  {
   "cell_type": "code",
   "execution_count": 10,
   "metadata": {},
   "outputs": [
    {
     "data": {
      "text/html": [
       "<div>\n",
       "<style scoped>\n",
       "    .dataframe tbody tr th:only-of-type {\n",
       "        vertical-align: middle;\n",
       "    }\n",
       "\n",
       "    .dataframe tbody tr th {\n",
       "        vertical-align: top;\n",
       "    }\n",
       "\n",
       "    .dataframe thead th {\n",
       "        text-align: right;\n",
       "    }\n",
       "</style>\n",
       "<table border=\"1\" class=\"dataframe\">\n",
       "  <thead>\n",
       "    <tr style=\"text-align: right;\">\n",
       "      <th></th>\n",
       "      <th>first</th>\n",
       "      <th>middle</th>\n",
       "      <th>last</th>\n",
       "    </tr>\n",
       "  </thead>\n",
       "  <tbody>\n",
       "    <tr>\n",
       "      <th>0</th>\n",
       "      <td>Paul</td>\n",
       "      <td>E</td>\n",
       "      <td>Boal</td>\n",
       "    </tr>\n",
       "    <tr>\n",
       "      <th>1</th>\n",
       "      <td>Eric</td>\n",
       "      <td>D</td>\n",
       "      <td>Westhus</td>\n",
       "    </tr>\n",
       "    <tr>\n",
       "      <th>2</th>\n",
       "      <td>Bill</td>\n",
       "      <td>A</td>\n",
       "      <td>Jones</td>\n",
       "    </tr>\n",
       "  </tbody>\n",
       "</table>\n",
       "</div>"
      ],
      "text/plain": [
       "  first middle     last\n",
       "0  Paul      E     Boal\n",
       "1  Eric      D  Westhus\n",
       "2  Bill      A    Jones"
      ]
     },
     "execution_count": 10,
     "metadata": {},
     "output_type": "execute_result"
    }
   ],
   "source": [
    "pd.DataFrame(list(zip(first_names, middle_names, last_names)), columns=['first','middle','last'])"
   ]
  },
  {
   "cell_type": "code",
   "execution_count": null,
   "metadata": {},
   "outputs": [],
   "source": []
  },
  {
   "cell_type": "code",
   "execution_count": 13,
   "metadata": {},
   "outputs": [],
   "source": [
    "people = [\n",
    "    { 'first': 'Paul', 'last': 'Boal', 'middle': 'E' },\n",
    "    { 'first': 'Eric', 'last': 'Westhus', 'middle': 'D'},\n",
    "    { 'first': 'Bill', 'last': 'Jones', 'middle': 'A'}\n",
    "]"
   ]
  },
  {
   "cell_type": "code",
   "execution_count": 14,
   "metadata": {},
   "outputs": [
    {
     "data": {
      "text/html": [
       "<div>\n",
       "<style scoped>\n",
       "    .dataframe tbody tr th:only-of-type {\n",
       "        vertical-align: middle;\n",
       "    }\n",
       "\n",
       "    .dataframe tbody tr th {\n",
       "        vertical-align: top;\n",
       "    }\n",
       "\n",
       "    .dataframe thead th {\n",
       "        text-align: right;\n",
       "    }\n",
       "</style>\n",
       "<table border=\"1\" class=\"dataframe\">\n",
       "  <thead>\n",
       "    <tr style=\"text-align: right;\">\n",
       "      <th></th>\n",
       "      <th>first</th>\n",
       "      <th>last</th>\n",
       "      <th>middle</th>\n",
       "    </tr>\n",
       "  </thead>\n",
       "  <tbody>\n",
       "    <tr>\n",
       "      <th>0</th>\n",
       "      <td>Paul</td>\n",
       "      <td>Boal</td>\n",
       "      <td>E</td>\n",
       "    </tr>\n",
       "    <tr>\n",
       "      <th>1</th>\n",
       "      <td>Eric</td>\n",
       "      <td>Westhus</td>\n",
       "      <td>D</td>\n",
       "    </tr>\n",
       "    <tr>\n",
       "      <th>2</th>\n",
       "      <td>Bill</td>\n",
       "      <td>Jones</td>\n",
       "      <td>A</td>\n",
       "    </tr>\n",
       "  </tbody>\n",
       "</table>\n",
       "</div>"
      ],
      "text/plain": [
       "  first     last middle\n",
       "0  Paul     Boal      E\n",
       "1  Eric  Westhus      D\n",
       "2  Bill    Jones      A"
      ]
     },
     "execution_count": 14,
     "metadata": {},
     "output_type": "execute_result"
    }
   ],
   "source": [
    "pd.DataFrame(people)"
   ]
  },
  {
   "cell_type": "code",
   "execution_count": null,
   "metadata": {},
   "outputs": [],
   "source": []
  },
  {
   "cell_type": "code",
   "execution_count": 9,
   "metadata": {},
   "outputs": [],
   "source": [
    "people = [\n",
    "    { 'first': 'Paul', 'last': 'Boal', 'middle': 'E' },\n",
    "    { 'first': 'Eric', 'last': 'Westhus', 'middle': 'D'},\n",
    "    {  'last': 'Jones', 'first': 'Bill'}\n",
    "]"
   ]
  },
  {
   "cell_type": "code",
   "execution_count": 10,
   "metadata": {},
   "outputs": [
    {
     "data": {
      "text/html": [
       "<div>\n",
       "<style scoped>\n",
       "    .dataframe tbody tr th:only-of-type {\n",
       "        vertical-align: middle;\n",
       "    }\n",
       "\n",
       "    .dataframe tbody tr th {\n",
       "        vertical-align: top;\n",
       "    }\n",
       "\n",
       "    .dataframe thead th {\n",
       "        text-align: right;\n",
       "    }\n",
       "</style>\n",
       "<table border=\"1\" class=\"dataframe\">\n",
       "  <thead>\n",
       "    <tr style=\"text-align: right;\">\n",
       "      <th></th>\n",
       "      <th>first</th>\n",
       "      <th>last</th>\n",
       "      <th>middle</th>\n",
       "    </tr>\n",
       "  </thead>\n",
       "  <tbody>\n",
       "    <tr>\n",
       "      <th>0</th>\n",
       "      <td>Paul</td>\n",
       "      <td>Boal</td>\n",
       "      <td>E</td>\n",
       "    </tr>\n",
       "    <tr>\n",
       "      <th>1</th>\n",
       "      <td>Eric</td>\n",
       "      <td>Westhus</td>\n",
       "      <td>D</td>\n",
       "    </tr>\n",
       "    <tr>\n",
       "      <th>2</th>\n",
       "      <td>Bill</td>\n",
       "      <td>Jones</td>\n",
       "      <td>NaN</td>\n",
       "    </tr>\n",
       "  </tbody>\n",
       "</table>\n",
       "</div>"
      ],
      "text/plain": [
       "  first     last middle\n",
       "0  Paul     Boal      E\n",
       "1  Eric  Westhus      D\n",
       "2  Bill    Jones    NaN"
      ]
     },
     "execution_count": 10,
     "metadata": {},
     "output_type": "execute_result"
    }
   ],
   "source": [
    "pd.DataFrame(people)"
   ]
  },
  {
   "cell_type": "code",
   "execution_count": 2,
   "metadata": {},
   "outputs": [
    {
     "data": {
      "text/html": [
       "<div>\n",
       "<style scoped>\n",
       "    .dataframe tbody tr th:only-of-type {\n",
       "        vertical-align: middle;\n",
       "    }\n",
       "\n",
       "    .dataframe tbody tr th {\n",
       "        vertical-align: top;\n",
       "    }\n",
       "\n",
       "    .dataframe thead th {\n",
       "        text-align: right;\n",
       "    }\n",
       "</style>\n",
       "<table border=\"1\" class=\"dataframe\">\n",
       "  <thead>\n",
       "    <tr style=\"text-align: right;\">\n",
       "      <th></th>\n",
       "      <th>first</th>\n",
       "      <th>last</th>\n",
       "      <th>middle</th>\n",
       "    </tr>\n",
       "  </thead>\n",
       "  <tbody>\n",
       "    <tr>\n",
       "      <th>0</th>\n",
       "      <td>Paul</td>\n",
       "      <td>Boal</td>\n",
       "      <td>E</td>\n",
       "    </tr>\n",
       "    <tr>\n",
       "      <th>1</th>\n",
       "      <td>Eric</td>\n",
       "      <td>Westhus</td>\n",
       "      <td>D</td>\n",
       "    </tr>\n",
       "    <tr>\n",
       "      <th>2</th>\n",
       "      <td>Bill</td>\n",
       "      <td>Jones</td>\n",
       "      <td>A</td>\n",
       "    </tr>\n",
       "    <tr>\n",
       "      <th>3</th>\n",
       "      <td>Walter</td>\n",
       "      <td>Cronkite</td>\n",
       "      <td>NaN</td>\n",
       "    </tr>\n",
       "    <tr>\n",
       "      <th>4</th>\n",
       "      <td>Eddie</td>\n",
       "      <td>Murphy</td>\n",
       "      <td>NaN</td>\n",
       "    </tr>\n",
       "    <tr>\n",
       "      <th>5</th>\n",
       "      <td>Cher</td>\n",
       "      <td>NaN</td>\n",
       "      <td>NaN</td>\n",
       "    </tr>\n",
       "  </tbody>\n",
       "</table>\n",
       "</div>"
      ],
      "text/plain": [
       "    first      last middle\n",
       "0    Paul      Boal      E\n",
       "1    Eric   Westhus      D\n",
       "2    Bill     Jones      A\n",
       "3  Walter  Cronkite    NaN\n",
       "4   Eddie    Murphy    NaN\n",
       "5    Cher       NaN    NaN"
      ]
     },
     "execution_count": 2,
     "metadata": {},
     "output_type": "execute_result"
    }
   ],
   "source": [
    "import pandas as pd\n",
    "people = [\n",
    "    { 'first': 'Paul', 'last': 'Boal', 'middle': 'E' },\n",
    "    { 'first': 'Eric', 'last': 'Westhus', 'middle': 'D'},\n",
    "    { 'first': 'Bill', 'last': 'Jones', 'middle': 'A'},\n",
    "    { 'first': 'Walter', 'last': 'Cronkite'},\n",
    "    { 'first': 'Eddie', 'last': 'Murphy'},\n",
    "    { 'first': 'Cher'}\n",
    "]\n",
    "pd.DataFrame(people)"
   ]
  },
  {
   "cell_type": "code",
   "execution_count": 11,
   "metadata": {},
   "outputs": [],
   "source": [
    "visits = pd.read_csv('/data/visits.csv')"
   ]
  },
  {
   "cell_type": "code",
   "execution_count": 12,
   "metadata": {},
   "outputs": [
    {
     "data": {
      "text/html": [
       "<div>\n",
       "<style scoped>\n",
       "    .dataframe tbody tr th:only-of-type {\n",
       "        vertical-align: middle;\n",
       "    }\n",
       "\n",
       "    .dataframe tbody tr th {\n",
       "        vertical-align: top;\n",
       "    }\n",
       "\n",
       "    .dataframe thead th {\n",
       "        text-align: right;\n",
       "    }\n",
       "</style>\n",
       "<table border=\"1\" class=\"dataframe\">\n",
       "  <thead>\n",
       "    <tr style=\"text-align: right;\">\n",
       "      <th></th>\n",
       "      <th>SYSTEM</th>\n",
       "      <th>HOSPITAL</th>\n",
       "      <th>PATIENT_ID</th>\n",
       "      <th>PATIENT_AGE</th>\n",
       "      <th>BILLING_CODE</th>\n",
       "      <th>SERVICE_CODE</th>\n",
       "      <th>VISIT_DATE</th>\n",
       "    </tr>\n",
       "  </thead>\n",
       "  <tbody>\n",
       "    <tr>\n",
       "      <th>0</th>\n",
       "      <td>Mercy</td>\n",
       "      <td>Missouri Baptist</td>\n",
       "      <td>E74109</td>\n",
       "      <td>39</td>\n",
       "      <td>97140</td>\n",
       "      <td>12</td>\n",
       "      <td>2021-05-01</td>\n",
       "    </tr>\n",
       "    <tr>\n",
       "      <th>1</th>\n",
       "      <td>BJC</td>\n",
       "      <td>SSM DePaul</td>\n",
       "      <td>E29207</td>\n",
       "      <td>40</td>\n",
       "      <td>97140</td>\n",
       "      <td>11</td>\n",
       "      <td>2021-03-25</td>\n",
       "    </tr>\n",
       "    <tr>\n",
       "      <th>2</th>\n",
       "      <td>SSM</td>\n",
       "      <td>SLU Hospital</td>\n",
       "      <td>E37839</td>\n",
       "      <td>33</td>\n",
       "      <td>G0283</td>\n",
       "      <td>11</td>\n",
       "      <td>2021-07-25</td>\n",
       "    </tr>\n",
       "    <tr>\n",
       "      <th>3</th>\n",
       "      <td>SSM</td>\n",
       "      <td>Mercy St. Louis</td>\n",
       "      <td>E45853</td>\n",
       "      <td>65</td>\n",
       "      <td>G0283</td>\n",
       "      <td>12</td>\n",
       "      <td>2021-07-27</td>\n",
       "    </tr>\n",
       "    <tr>\n",
       "      <th>4</th>\n",
       "      <td>SSM</td>\n",
       "      <td>SLU Hospital</td>\n",
       "      <td>E14769</td>\n",
       "      <td>48</td>\n",
       "      <td>97140</td>\n",
       "      <td>12</td>\n",
       "      <td>2021-06-16</td>\n",
       "    </tr>\n",
       "    <tr>\n",
       "      <th>...</th>\n",
       "      <td>...</td>\n",
       "      <td>...</td>\n",
       "      <td>...</td>\n",
       "      <td>...</td>\n",
       "      <td>...</td>\n",
       "      <td>...</td>\n",
       "      <td>...</td>\n",
       "    </tr>\n",
       "    <tr>\n",
       "      <th>195</th>\n",
       "      <td>SSM</td>\n",
       "      <td>Missouri Baptist</td>\n",
       "      <td>E61327</td>\n",
       "      <td>52</td>\n",
       "      <td>97140</td>\n",
       "      <td>12</td>\n",
       "      <td>2021-08-09</td>\n",
       "    </tr>\n",
       "    <tr>\n",
       "      <th>196</th>\n",
       "      <td>SSM</td>\n",
       "      <td>SLU Hospital</td>\n",
       "      <td>E13076</td>\n",
       "      <td>42</td>\n",
       "      <td>97140</td>\n",
       "      <td>12</td>\n",
       "      <td>2021-01-07</td>\n",
       "    </tr>\n",
       "    <tr>\n",
       "      <th>197</th>\n",
       "      <td>Mercy</td>\n",
       "      <td>Barnes Jewish</td>\n",
       "      <td>E72890</td>\n",
       "      <td>36</td>\n",
       "      <td>97140</td>\n",
       "      <td>12</td>\n",
       "      <td>2021-08-15</td>\n",
       "    </tr>\n",
       "    <tr>\n",
       "      <th>198</th>\n",
       "      <td>Mercy</td>\n",
       "      <td>SSM DePaul</td>\n",
       "      <td>E82016</td>\n",
       "      <td>66</td>\n",
       "      <td>97140</td>\n",
       "      <td>11</td>\n",
       "      <td>2021-07-04</td>\n",
       "    </tr>\n",
       "    <tr>\n",
       "      <th>199</th>\n",
       "      <td>SSM</td>\n",
       "      <td>SSM DePaul</td>\n",
       "      <td>E26182</td>\n",
       "      <td>36</td>\n",
       "      <td>G0283</td>\n",
       "      <td>12</td>\n",
       "      <td>2021-06-15</td>\n",
       "    </tr>\n",
       "  </tbody>\n",
       "</table>\n",
       "<p>200 rows × 7 columns</p>\n",
       "</div>"
      ],
      "text/plain": [
       "    SYSTEM          HOSPITAL PATIENT_ID  PATIENT_AGE BILLING_CODE  \\\n",
       "0    Mercy  Missouri Baptist     E74109           39        97140   \n",
       "1      BJC        SSM DePaul     E29207           40        97140   \n",
       "2      SSM      SLU Hospital     E37839           33        G0283   \n",
       "3      SSM   Mercy St. Louis     E45853           65        G0283   \n",
       "4      SSM      SLU Hospital     E14769           48        97140   \n",
       "..     ...               ...        ...          ...          ...   \n",
       "195    SSM  Missouri Baptist     E61327           52        97140   \n",
       "196    SSM      SLU Hospital     E13076           42        97140   \n",
       "197  Mercy     Barnes Jewish     E72890           36        97140   \n",
       "198  Mercy        SSM DePaul     E82016           66        97140   \n",
       "199    SSM        SSM DePaul     E26182           36        G0283   \n",
       "\n",
       "     SERVICE_CODE  VISIT_DATE  \n",
       "0              12  2021-05-01  \n",
       "1              11  2021-03-25  \n",
       "2              11  2021-07-25  \n",
       "3              12  2021-07-27  \n",
       "4              12  2021-06-16  \n",
       "..            ...         ...  \n",
       "195            12  2021-08-09  \n",
       "196            12  2021-01-07  \n",
       "197            12  2021-08-15  \n",
       "198            11  2021-07-04  \n",
       "199            12  2021-06-15  \n",
       "\n",
       "[200 rows x 7 columns]"
      ]
     },
     "execution_count": 12,
     "metadata": {},
     "output_type": "execute_result"
    }
   ],
   "source": [
    "visits"
   ]
  },
  {
   "cell_type": "code",
   "execution_count": 13,
   "metadata": {},
   "outputs": [
    {
     "data": {
      "text/plain": [
       "200"
      ]
     },
     "execution_count": 13,
     "metadata": {},
     "output_type": "execute_result"
    }
   ],
   "source": [
    "len(visits)"
   ]
  },
  {
   "cell_type": "code",
   "execution_count": 14,
   "metadata": {},
   "outputs": [
    {
     "data": {
      "text/plain": [
       "(200, 7)"
      ]
     },
     "execution_count": 14,
     "metadata": {},
     "output_type": "execute_result"
    }
   ],
   "source": [
    "visits.shape"
   ]
  },
  {
   "cell_type": "code",
   "execution_count": 16,
   "metadata": {},
   "outputs": [
    {
     "data": {
      "text/plain": [
       "52.125"
      ]
     },
     "execution_count": 16,
     "metadata": {},
     "output_type": "execute_result"
    }
   ],
   "source": [
    "visits['PATIENT_AGE'].mean()"
   ]
  },
  {
   "cell_type": "code",
   "execution_count": 17,
   "metadata": {},
   "outputs": [
    {
     "data": {
      "text/plain": [
       "SYSTEM          object\n",
       "HOSPITAL        object\n",
       "PATIENT_ID      object\n",
       "PATIENT_AGE      int64\n",
       "BILLING_CODE    object\n",
       "SERVICE_CODE     int64\n",
       "VISIT_DATE      object\n",
       "dtype: object"
      ]
     },
     "execution_count": 17,
     "metadata": {},
     "output_type": "execute_result"
    }
   ],
   "source": [
    "visits.dtypes"
   ]
  },
  {
   "cell_type": "code",
   "execution_count": 18,
   "metadata": {},
   "outputs": [
    {
     "data": {
      "text/html": [
       "<div>\n",
       "<style scoped>\n",
       "    .dataframe tbody tr th:only-of-type {\n",
       "        vertical-align: middle;\n",
       "    }\n",
       "\n",
       "    .dataframe tbody tr th {\n",
       "        vertical-align: top;\n",
       "    }\n",
       "\n",
       "    .dataframe thead th {\n",
       "        text-align: right;\n",
       "    }\n",
       "</style>\n",
       "<table border=\"1\" class=\"dataframe\">\n",
       "  <thead>\n",
       "    <tr style=\"text-align: right;\">\n",
       "      <th></th>\n",
       "      <th>reporting_entity_name</th>\n",
       "      <th>reporting_entity_type</th>\n",
       "      <th>last_updated_on</th>\n",
       "      <th>version</th>\n",
       "      <th>out_of_network</th>\n",
       "    </tr>\n",
       "  </thead>\n",
       "  <tbody>\n",
       "    <tr>\n",
       "      <th>0</th>\n",
       "      <td>United HealthCare Services, Inc.</td>\n",
       "      <td>Third-Party Administrator</td>\n",
       "      <td>2022-10-01</td>\n",
       "      <td>1.0.0</td>\n",
       "      <td>{'name': 'E-STIM 1/&gt; AREAS OTH THAN WND CARE P...</td>\n",
       "    </tr>\n",
       "    <tr>\n",
       "      <th>1</th>\n",
       "      <td>United HealthCare Services, Inc.</td>\n",
       "      <td>Third-Party Administrator</td>\n",
       "      <td>2022-10-01</td>\n",
       "      <td>1.0.0</td>\n",
       "      <td>{'name': 'MANUAL THERAPY TQS 1/&gt; REGIONS EACH ...</td>\n",
       "    </tr>\n",
       "    <tr>\n",
       "      <th>2</th>\n",
       "      <td>United HealthCare Services, Inc.</td>\n",
       "      <td>Third-Party Administrator</td>\n",
       "      <td>2022-10-01</td>\n",
       "      <td>1.0.0</td>\n",
       "      <td>{'name': 'SBSQ HOSPITAL CARE/DAY 25 MINUTES', ...</td>\n",
       "    </tr>\n",
       "    <tr>\n",
       "      <th>3</th>\n",
       "      <td>United HealthCare Services, Inc.</td>\n",
       "      <td>Third-Party Administrator</td>\n",
       "      <td>2022-10-01</td>\n",
       "      <td>1.0.0</td>\n",
       "      <td>{'name': 'SBSQ HOSPITAL CARE/DAY 35 MINUTES', ...</td>\n",
       "    </tr>\n",
       "    <tr>\n",
       "      <th>4</th>\n",
       "      <td>United HealthCare Services, Inc.</td>\n",
       "      <td>Third-Party Administrator</td>\n",
       "      <td>2022-10-01</td>\n",
       "      <td>1.0.0</td>\n",
       "      <td>{'name': 'THER PX 1/&gt; AREAS EACH 15 MIN NEUROM...</td>\n",
       "    </tr>\n",
       "    <tr>\n",
       "      <th>5</th>\n",
       "      <td>United HealthCare Services, Inc.</td>\n",
       "      <td>Third-Party Administrator</td>\n",
       "      <td>2022-10-01</td>\n",
       "      <td>1.0.0</td>\n",
       "      <td>{'name': 'THERAPEUTIC PX 1/&gt; AREAS EACH 15 MIN...</td>\n",
       "    </tr>\n",
       "  </tbody>\n",
       "</table>\n",
       "</div>"
      ],
      "text/plain": [
       "              reporting_entity_name      reporting_entity_type  \\\n",
       "0  United HealthCare Services, Inc.  Third-Party Administrator   \n",
       "1  United HealthCare Services, Inc.  Third-Party Administrator   \n",
       "2  United HealthCare Services, Inc.  Third-Party Administrator   \n",
       "3  United HealthCare Services, Inc.  Third-Party Administrator   \n",
       "4  United HealthCare Services, Inc.  Third-Party Administrator   \n",
       "5  United HealthCare Services, Inc.  Third-Party Administrator   \n",
       "\n",
       "  last_updated_on version                                     out_of_network  \n",
       "0      2022-10-01   1.0.0  {'name': 'E-STIM 1/> AREAS OTH THAN WND CARE P...  \n",
       "1      2022-10-01   1.0.0  {'name': 'MANUAL THERAPY TQS 1/> REGIONS EACH ...  \n",
       "2      2022-10-01   1.0.0  {'name': 'SBSQ HOSPITAL CARE/DAY 25 MINUTES', ...  \n",
       "3      2022-10-01   1.0.0  {'name': 'SBSQ HOSPITAL CARE/DAY 35 MINUTES', ...  \n",
       "4      2022-10-01   1.0.0  {'name': 'THER PX 1/> AREAS EACH 15 MIN NEUROM...  \n",
       "5      2022-10-01   1.0.0  {'name': 'THERAPEUTIC PX 1/> AREAS EACH 15 MIN...  "
      ]
     },
     "execution_count": 18,
     "metadata": {},
     "output_type": "execute_result"
    }
   ],
   "source": [
    "pd.read_json('/data/negotiated_rates.json')"
   ]
  },
  {
   "cell_type": "code",
   "execution_count": 19,
   "metadata": {},
   "outputs": [],
   "source": [
    "dfs = pd.read_html('https://en.wikipedia.org/wiki/List_of_cities_proper_by_population_density')"
   ]
  },
  {
   "cell_type": "code",
   "execution_count": 20,
   "metadata": {},
   "outputs": [
    {
     "data": {
      "text/plain": [
       "3"
      ]
     },
     "execution_count": 20,
     "metadata": {},
     "output_type": "execute_result"
    }
   ],
   "source": [
    "len(dfs)"
   ]
  },
  {
   "cell_type": "code",
   "execution_count": 21,
   "metadata": {},
   "outputs": [
    {
     "data": {
      "text/html": [
       "<div>\n",
       "<style scoped>\n",
       "    .dataframe tbody tr th:only-of-type {\n",
       "        vertical-align: middle;\n",
       "    }\n",
       "\n",
       "    .dataframe tbody tr th {\n",
       "        vertical-align: top;\n",
       "    }\n",
       "\n",
       "    .dataframe thead th {\n",
       "        text-align: right;\n",
       "    }\n",
       "</style>\n",
       "<table border=\"1\" class=\"dataframe\">\n",
       "  <thead>\n",
       "    <tr style=\"text-align: right;\">\n",
       "      <th></th>\n",
       "      <th>Ekistics</th>\n",
       "    </tr>\n",
       "  </thead>\n",
       "  <tbody>\n",
       "    <tr>\n",
       "      <th>0</th>\n",
       "      <td>List of largest cities List of cities proper b...</td>\n",
       "    </tr>\n",
       "    <tr>\n",
       "      <th>1</th>\n",
       "      <td>Cities portal</td>\n",
       "    </tr>\n",
       "    <tr>\n",
       "      <th>2</th>\n",
       "      <td>.mw-parser-output .navbar{display:inline;font-...</td>\n",
       "    </tr>\n",
       "  </tbody>\n",
       "</table>\n",
       "</div>"
      ],
      "text/plain": [
       "                                            Ekistics\n",
       "0  List of largest cities List of cities proper b...\n",
       "1                                      Cities portal\n",
       "2  .mw-parser-output .navbar{display:inline;font-..."
      ]
     },
     "execution_count": 21,
     "metadata": {},
     "output_type": "execute_result"
    }
   ],
   "source": [
    "dfs[0]"
   ]
  },
  {
   "cell_type": "code",
   "execution_count": 22,
   "metadata": {},
   "outputs": [
    {
     "data": {
      "text/html": [
       "<div>\n",
       "<style scoped>\n",
       "    .dataframe tbody tr th:only-of-type {\n",
       "        vertical-align: middle;\n",
       "    }\n",
       "\n",
       "    .dataframe tbody tr th {\n",
       "        vertical-align: top;\n",
       "    }\n",
       "\n",
       "    .dataframe thead th {\n",
       "        text-align: right;\n",
       "    }\n",
       "</style>\n",
       "<table border=\"1\" class=\"dataframe\">\n",
       "  <thead>\n",
       "    <tr style=\"text-align: right;\">\n",
       "      <th></th>\n",
       "      <th>0</th>\n",
       "      <th>1</th>\n",
       "    </tr>\n",
       "  </thead>\n",
       "  <tbody>\n",
       "    <tr>\n",
       "      <th>0</th>\n",
       "      <td>NaN</td>\n",
       "      <td>This list is incomplete; you can help by addin...</td>\n",
       "    </tr>\n",
       "  </tbody>\n",
       "</table>\n",
       "</div>"
      ],
      "text/plain": [
       "    0                                                  1\n",
       "0 NaN  This list is incomplete; you can help by addin..."
      ]
     },
     "execution_count": 22,
     "metadata": {},
     "output_type": "execute_result"
    }
   ],
   "source": [
    "dfs[1]"
   ]
  },
  {
   "cell_type": "code",
   "execution_count": 24,
   "metadata": {},
   "outputs": [
    {
     "data": {
      "text/html": [
       "<div>\n",
       "<style scoped>\n",
       "    .dataframe tbody tr th:only-of-type {\n",
       "        vertical-align: middle;\n",
       "    }\n",
       "\n",
       "    .dataframe tbody tr th {\n",
       "        vertical-align: top;\n",
       "    }\n",
       "\n",
       "    .dataframe thead tr th {\n",
       "        text-align: left;\n",
       "    }\n",
       "</style>\n",
       "<table border=\"1\" class=\"dataframe\">\n",
       "  <thead>\n",
       "    <tr>\n",
       "      <th></th>\n",
       "      <th>City</th>\n",
       "      <th>Population</th>\n",
       "      <th colspan=\"2\" halign=\"left\">Area</th>\n",
       "      <th colspan=\"2\" halign=\"left\">Density</th>\n",
       "      <th>Country</th>\n",
       "      <th>Year</th>\n",
       "    </tr>\n",
       "    <tr>\n",
       "      <th></th>\n",
       "      <th>City</th>\n",
       "      <th>Population</th>\n",
       "      <th>km2</th>\n",
       "      <th>sqmi</th>\n",
       "      <th>/km2</th>\n",
       "      <th>/sqmi</th>\n",
       "      <th>Country</th>\n",
       "      <th>Year</th>\n",
       "    </tr>\n",
       "  </thead>\n",
       "  <tbody>\n",
       "    <tr>\n",
       "      <th>0</th>\n",
       "      <td>Manila</td>\n",
       "      <td>1846513</td>\n",
       "      <td>43</td>\n",
       "      <td>17</td>\n",
       "      <td>43062</td>\n",
       "      <td>111532</td>\n",
       "      <td>Philippines *</td>\n",
       "      <td>2020 [1] 2018[2]</td>\n",
       "    </tr>\n",
       "    <tr>\n",
       "      <th>1</th>\n",
       "      <td>Mandaluyong</td>\n",
       "      <td>425758</td>\n",
       "      <td>11</td>\n",
       "      <td>4</td>\n",
       "      <td>38495</td>\n",
       "      <td>99703</td>\n",
       "      <td>Philippines *</td>\n",
       "      <td>2020 [1][3]</td>\n",
       "    </tr>\n",
       "    <tr>\n",
       "      <th>2</th>\n",
       "      <td>Pateros</td>\n",
       "      <td>65227</td>\n",
       "      <td>2</td>\n",
       "      <td>1</td>\n",
       "      <td>37061</td>\n",
       "      <td>95988</td>\n",
       "      <td>Philippines *</td>\n",
       "      <td>2020 [1] 2013[3]</td>\n",
       "    </tr>\n",
       "    <tr>\n",
       "      <th>3</th>\n",
       "      <td>Caloocan</td>\n",
       "      <td>1661584</td>\n",
       "      <td>53</td>\n",
       "      <td>21</td>\n",
       "      <td>31233</td>\n",
       "      <td>80893</td>\n",
       "      <td>Philippines *</td>\n",
       "      <td>2020 [1][3]</td>\n",
       "    </tr>\n",
       "    <tr>\n",
       "      <th>4</th>\n",
       "      <td>Bnei Brak</td>\n",
       "      <td>212646</td>\n",
       "      <td>7</td>\n",
       "      <td>3</td>\n",
       "      <td>30001</td>\n",
       "      <td>77702</td>\n",
       "      <td>Israel *</td>\n",
       "      <td>2022 [4][5]</td>\n",
       "    </tr>\n",
       "    <tr>\n",
       "      <th>...</th>\n",
       "      <td>...</td>\n",
       "      <td>...</td>\n",
       "      <td>...</td>\n",
       "      <td>...</td>\n",
       "      <td>...</td>\n",
       "      <td>...</td>\n",
       "      <td>...</td>\n",
       "      <td>...</td>\n",
       "    </tr>\n",
       "    <tr>\n",
       "      <th>69</th>\n",
       "      <td>Cairo</td>\n",
       "      <td>9539673</td>\n",
       "      <td>606</td>\n",
       "      <td>234</td>\n",
       "      <td>15742</td>\n",
       "      <td>40772</td>\n",
       "      <td>Egypt *</td>\n",
       "      <td>2019[59] 2017[60]</td>\n",
       "    </tr>\n",
       "    <tr>\n",
       "      <th>70</th>\n",
       "      <td>Rosario, Cavite</td>\n",
       "      <td>110807</td>\n",
       "      <td>8</td>\n",
       "      <td>3</td>\n",
       "      <td>14561</td>\n",
       "      <td>37712</td>\n",
       "      <td>Philippines *</td>\n",
       "      <td>2020 [1] 2013[39]</td>\n",
       "    </tr>\n",
       "    <tr>\n",
       "      <th>71</th>\n",
       "      <td>Mandaue</td>\n",
       "      <td>364116</td>\n",
       "      <td>25</td>\n",
       "      <td>10</td>\n",
       "      <td>14461</td>\n",
       "      <td>37453</td>\n",
       "      <td>Philippines *</td>\n",
       "      <td>2020 [1] 2013[39]</td>\n",
       "    </tr>\n",
       "    <tr>\n",
       "      <th>72</th>\n",
       "      <td>Bacoor</td>\n",
       "      <td>664625</td>\n",
       "      <td>46</td>\n",
       "      <td>18</td>\n",
       "      <td>14395</td>\n",
       "      <td>37284</td>\n",
       "      <td>Philippines *</td>\n",
       "      <td>2020 [1] 2013[39]</td>\n",
       "    </tr>\n",
       "    <tr>\n",
       "      <th>73</th>\n",
       "      <td>San Pedro, Laguna</td>\n",
       "      <td>326001</td>\n",
       "      <td>24</td>\n",
       "      <td>9</td>\n",
       "      <td>13555</td>\n",
       "      <td>35108</td>\n",
       "      <td>Philippines *</td>\n",
       "      <td>2020 [1] 2013[39]</td>\n",
       "    </tr>\n",
       "  </tbody>\n",
       "</table>\n",
       "<p>74 rows × 8 columns</p>\n",
       "</div>"
      ],
      "text/plain": [
       "                 City Population Area      Density                Country  \\\n",
       "                 City Population  km2 sqmi    /km2   /sqmi        Country   \n",
       "0              Manila    1846513   43   17   43062  111532  Philippines *   \n",
       "1         Mandaluyong     425758   11    4   38495   99703  Philippines *   \n",
       "2             Pateros      65227    2    1   37061   95988  Philippines *   \n",
       "3            Caloocan    1661584   53   21   31233   80893  Philippines *   \n",
       "4           Bnei Brak     212646    7    3   30001   77702       Israel *   \n",
       "..                ...        ...  ...  ...     ...     ...            ...   \n",
       "69              Cairo    9539673  606  234   15742   40772        Egypt *   \n",
       "70    Rosario, Cavite     110807    8    3   14561   37712  Philippines *   \n",
       "71            Mandaue     364116   25   10   14461   37453  Philippines *   \n",
       "72             Bacoor     664625   46   18   14395   37284  Philippines *   \n",
       "73  San Pedro, Laguna     326001   24    9   13555   35108  Philippines *   \n",
       "\n",
       "                 Year  \n",
       "                 Year  \n",
       "0    2020 [1] 2018[2]  \n",
       "1         2020 [1][3]  \n",
       "2    2020 [1] 2013[3]  \n",
       "3         2020 [1][3]  \n",
       "4         2022 [4][5]  \n",
       "..                ...  \n",
       "69  2019[59] 2017[60]  \n",
       "70  2020 [1] 2013[39]  \n",
       "71  2020 [1] 2013[39]  \n",
       "72  2020 [1] 2013[39]  \n",
       "73  2020 [1] 2013[39]  \n",
       "\n",
       "[74 rows x 8 columns]"
      ]
     },
     "execution_count": 24,
     "metadata": {},
     "output_type": "execute_result"
    }
   ],
   "source": [
    "dfs[2]"
   ]
  },
  {
   "cell_type": "code",
   "execution_count": null,
   "metadata": {},
   "outputs": [],
   "source": []
  }
 ],
 "metadata": {
  "kernelspec": {
   "display_name": "Python 3",
   "language": "python",
   "name": "python3"
  },
  "language_info": {
   "codemirror_mode": {
    "name": "ipython",
    "version": 3
   },
   "file_extension": ".py",
   "mimetype": "text/x-python",
   "name": "python",
   "nbconvert_exporter": "python",
   "pygments_lexer": "ipython3",
   "version": "3.6.7"
  }
 },
 "nbformat": 4,
 "nbformat_minor": 2
}
