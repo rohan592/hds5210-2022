{
 "cells": [
  {
   "cell_type": "markdown",
   "metadata": {},
   "source": [
    "Use `%matplotlib notebook` to make plots interactive"
   ]
  },
  {
   "cell_type": "code",
   "execution_count": null,
   "metadata": {},
   "outputs": [],
   "source": [
    "%matplotlib inline"
   ]
  },
  {
   "cell_type": "code",
   "execution_count": null,
   "metadata": {},
   "outputs": [],
   "source": [
    "import pandas as pd\n",
    "data = pd.read_csv('/data/flu_2016_2017.csv', quotechar='\"')\n",
    "usa = data[(data['Country'] == 'United States of America') & \n",
    "           (data['Year'] == 2016)]\n",
    "usa.shape"
   ]
  },
  {
   "cell_type": "code",
   "execution_count": null,
   "metadata": {},
   "outputs": [],
   "source": [
    "usa[0:10]"
   ]
  },
  {
   "cell_type": "markdown",
   "metadata": {},
   "source": [
    "---\n",
    "\n",
    "Scatter Plot\n",
    "---\n",
    "\n",
    "Use a scatter plot to see if there are some possible relationship"
   ]
  },
  {
   "cell_type": "code",
   "execution_count": null,
   "metadata": {},
   "outputs": [],
   "source": [
    "axes = usa.plot.scatter(x='SPEC_RECEIVED_NB', y='INF_A', color='DarkRed', label='Influeza A')\n",
    "axes.set_ylabel('Positive Cases')\n",
    "axes.set_xlabel('Specimens Received')"
   ]
  },
  {
   "cell_type": "code",
   "execution_count": null,
   "metadata": {},
   "outputs": [],
   "source": [
    "axes = usa.plot.scatter(x='SPEC_RECEIVED_NB', y='INF_B', color='DarkBlue', label='Influeza B')\n",
    "axes.set_ylabel('Positive Cases')\n",
    "axes.set_xlabel('Specimens Received')"
   ]
  },
  {
   "cell_type": "code",
   "execution_count": null,
   "metadata": {},
   "outputs": [],
   "source": [
    "axes = usa.plot.scatter(x='SPEC_RECEIVED_NB', y='INF_A', color='DarkRed', label='Influeza A')\n",
    "axes = usa.plot.scatter(x='SPEC_RECEIVED_NB', y='INF_B', color='DarkBlue', label='Influenza B', ax=axes)\n",
    "axes.set_ylabel('Positive Cases')\n",
    "axes.set_xlabel('Specimens Received')"
   ]
  },
  {
   "cell_type": "code",
   "execution_count": null,
   "metadata": {},
   "outputs": [],
   "source": []
  },
  {
   "cell_type": "code",
   "execution_count": null,
   "metadata": {},
   "outputs": [],
   "source": [
    "import seaborn as sns\n",
    "\n",
    "ax = sns.regplot(data=usa, x='SPEC_RECEIVED_NB', y='INF_A', order=2, label='Flu A')\n",
    "sns.regplot(data=usa, x='SPEC_RECEIVED_NB', y='INF_B', label='Flu B', ax=ax)\n",
    "ax.legend()\n",
    "ax.set_ylabel('Positive Cases')\n",
    "ax.set_xlabel('Specimens Received')"
   ]
  },
  {
   "cell_type": "code",
   "execution_count": null,
   "metadata": {},
   "outputs": [],
   "source": [
    "import seaborn as sns\n",
    "ax = sns.jointplot(data=usa, x='SPEC_RECEIVED_NB', y='INF_B')\n"
   ]
  },
  {
   "cell_type": "markdown",
   "metadata": {},
   "source": [
    "---\n",
    "\n",
    "See if there are always a similar ratio of type A to type B cases of influenza"
   ]
  },
  {
   "cell_type": "code",
   "execution_count": null,
   "metadata": {},
   "outputs": [],
   "source": [
    "ax = usa.plot.scatter(x='INF_A', y='INF_B')"
   ]
  },
  {
   "cell_type": "code",
   "execution_count": null,
   "metadata": {},
   "outputs": [],
   "source": []
  }
 ],
 "metadata": {
  "kernelspec": {
   "display_name": "Python 3",
   "language": "python",
   "name": "python3"
  },
  "language_info": {
   "codemirror_mode": {
    "name": "ipython",
    "version": 3
   },
   "file_extension": ".py",
   "mimetype": "text/x-python",
   "name": "python",
   "nbconvert_exporter": "python",
   "pygments_lexer": "ipython3",
   "version": "3.6.7"
  }
 },
 "nbformat": 4,
 "nbformat_minor": 2
}
