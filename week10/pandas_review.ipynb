{
 "cells": [
  {
   "cell_type": "markdown",
   "metadata": {},
   "source": [
    "# Pandas review 2022-11-01"
   ]
  },
  {
   "cell_type": "code",
   "execution_count": 1,
   "metadata": {},
   "outputs": [],
   "source": [
    "import pandas as pd"
   ]
  },
  {
   "cell_type": "code",
   "execution_count": 2,
   "metadata": {},
   "outputs": [],
   "source": [
    "df = pd.read_csv('/data/indian_liver_patient.csv')"
   ]
  },
  {
   "cell_type": "code",
   "execution_count": 3,
   "metadata": {},
   "outputs": [
    {
     "data": {
      "text/plain": [
       "Index(['Age', 'Gender', 'Total_Bilirubin', 'Direct_Bilirubin',\n",
       "       'Alkaline_Phosphotase', 'Alamine_Aminotransferase',\n",
       "       'Aspartate_Aminotransferase', 'Total_Protiens', 'Albumin',\n",
       "       'Albumin_and_Globulin_Ratio', 'Dataset'],\n",
       "      dtype='object')"
      ]
     },
     "execution_count": 3,
     "metadata": {},
     "output_type": "execute_result"
    }
   ],
   "source": [
    "df.columns"
   ]
  },
  {
   "cell_type": "code",
   "execution_count": 4,
   "metadata": {},
   "outputs": [
    {
     "data": {
      "text/plain": [
       "0      65\n",
       "1      62\n",
       "2      62\n",
       "3      58\n",
       "4      72\n",
       "       ..\n",
       "578    60\n",
       "579    40\n",
       "580    52\n",
       "581    31\n",
       "582    38\n",
       "Name: Age, Length: 583, dtype: int64"
      ]
     },
     "execution_count": 4,
     "metadata": {},
     "output_type": "execute_result"
    }
   ],
   "source": [
    "df['Age']"
   ]
  },
  {
   "cell_type": "code",
   "execution_count": 5,
   "metadata": {},
   "outputs": [
    {
     "data": {
      "text/plain": [
       "26087"
      ]
     },
     "execution_count": 5,
     "metadata": {},
     "output_type": "execute_result"
    }
   ],
   "source": [
    "df['Age'].sum()"
   ]
  },
  {
   "cell_type": "code",
   "execution_count": 6,
   "metadata": {},
   "outputs": [
    {
     "data": {
      "text/plain": [
       "44.74614065180103"
      ]
     },
     "execution_count": 6,
     "metadata": {},
     "output_type": "execute_result"
    }
   ],
   "source": [
    "df['Age'].mean()"
   ]
  },
  {
   "cell_type": "code",
   "execution_count": 7,
   "metadata": {},
   "outputs": [
    {
     "data": {
      "text/plain": [
       "0      130\n",
       "1      124\n",
       "2      124\n",
       "3      116\n",
       "4      144\n",
       "      ... \n",
       "578    120\n",
       "579     80\n",
       "580    104\n",
       "581     62\n",
       "582     76\n",
       "Name: Age, Length: 583, dtype: int64"
      ]
     },
     "execution_count": 7,
     "metadata": {},
     "output_type": "execute_result"
    }
   ],
   "source": [
    "df['Age'] * 2"
   ]
  },
  {
   "cell_type": "code",
   "execution_count": 8,
   "metadata": {},
   "outputs": [
    {
     "data": {
      "text/html": [
       "<div>\n",
       "<style scoped>\n",
       "    .dataframe tbody tr th:only-of-type {\n",
       "        vertical-align: middle;\n",
       "    }\n",
       "\n",
       "    .dataframe tbody tr th {\n",
       "        vertical-align: top;\n",
       "    }\n",
       "\n",
       "    .dataframe thead th {\n",
       "        text-align: right;\n",
       "    }\n",
       "</style>\n",
       "<table border=\"1\" class=\"dataframe\">\n",
       "  <thead>\n",
       "    <tr style=\"text-align: right;\">\n",
       "      <th></th>\n",
       "      <th>Age</th>\n",
       "      <th>Gender</th>\n",
       "    </tr>\n",
       "  </thead>\n",
       "  <tbody>\n",
       "    <tr>\n",
       "      <th>0</th>\n",
       "      <td>65</td>\n",
       "      <td>Female</td>\n",
       "    </tr>\n",
       "    <tr>\n",
       "      <th>1</th>\n",
       "      <td>62</td>\n",
       "      <td>Male</td>\n",
       "    </tr>\n",
       "    <tr>\n",
       "      <th>2</th>\n",
       "      <td>62</td>\n",
       "      <td>Male</td>\n",
       "    </tr>\n",
       "    <tr>\n",
       "      <th>3</th>\n",
       "      <td>58</td>\n",
       "      <td>Male</td>\n",
       "    </tr>\n",
       "    <tr>\n",
       "      <th>4</th>\n",
       "      <td>72</td>\n",
       "      <td>Male</td>\n",
       "    </tr>\n",
       "    <tr>\n",
       "      <th>...</th>\n",
       "      <td>...</td>\n",
       "      <td>...</td>\n",
       "    </tr>\n",
       "    <tr>\n",
       "      <th>578</th>\n",
       "      <td>60</td>\n",
       "      <td>Male</td>\n",
       "    </tr>\n",
       "    <tr>\n",
       "      <th>579</th>\n",
       "      <td>40</td>\n",
       "      <td>Male</td>\n",
       "    </tr>\n",
       "    <tr>\n",
       "      <th>580</th>\n",
       "      <td>52</td>\n",
       "      <td>Male</td>\n",
       "    </tr>\n",
       "    <tr>\n",
       "      <th>581</th>\n",
       "      <td>31</td>\n",
       "      <td>Male</td>\n",
       "    </tr>\n",
       "    <tr>\n",
       "      <th>582</th>\n",
       "      <td>38</td>\n",
       "      <td>Male</td>\n",
       "    </tr>\n",
       "  </tbody>\n",
       "</table>\n",
       "<p>583 rows × 2 columns</p>\n",
       "</div>"
      ],
      "text/plain": [
       "     Age  Gender\n",
       "0     65  Female\n",
       "1     62    Male\n",
       "2     62    Male\n",
       "3     58    Male\n",
       "4     72    Male\n",
       "..   ...     ...\n",
       "578   60    Male\n",
       "579   40    Male\n",
       "580   52    Male\n",
       "581   31    Male\n",
       "582   38    Male\n",
       "\n",
       "[583 rows x 2 columns]"
      ]
     },
     "execution_count": 8,
     "metadata": {},
     "output_type": "execute_result"
    }
   ],
   "source": [
    "df[['Age','Gender']]"
   ]
  },
  {
   "cell_type": "code",
   "execution_count": 9,
   "metadata": {},
   "outputs": [
    {
     "data": {
      "text/plain": [
       "0      0.142857\n",
       "1      0.504587\n",
       "2      0.561644\n",
       "3      0.400000\n",
       "4      0.512821\n",
       "         ...   \n",
       "578    0.200000\n",
       "579    0.166667\n",
       "580    0.250000\n",
       "581    0.384615\n",
       "582    0.300000\n",
       "Length: 583, dtype: float64"
      ]
     },
     "execution_count": 9,
     "metadata": {},
     "output_type": "execute_result"
    }
   ],
   "source": [
    "df['Direct_Bilirubin'] / df['Total_Bilirubin']"
   ]
  },
  {
   "cell_type": "code",
   "execution_count": 12,
   "metadata": {},
   "outputs": [
    {
     "data": {
      "text/plain": [
       "0      FEMALE\n",
       "1        MALE\n",
       "2        MALE\n",
       "3        MALE\n",
       "4        MALE\n",
       "        ...  \n",
       "578      MALE\n",
       "579      MALE\n",
       "580      MALE\n",
       "581      MALE\n",
       "582      MALE\n",
       "Name: Gender, Length: 583, dtype: object"
      ]
     },
     "execution_count": 12,
     "metadata": {},
     "output_type": "execute_result"
    }
   ],
   "source": [
    "df['Gender'].str.upper()"
   ]
  },
  {
   "cell_type": "code",
   "execution_count": 14,
   "metadata": {},
   "outputs": [],
   "source": [
    "people = pd.read_csv('/data/people.psv', delimiter='|')"
   ]
  },
  {
   "cell_type": "code",
   "execution_count": 15,
   "metadata": {},
   "outputs": [
    {
     "data": {
      "text/html": [
       "<div>\n",
       "<style scoped>\n",
       "    .dataframe tbody tr th:only-of-type {\n",
       "        vertical-align: middle;\n",
       "    }\n",
       "\n",
       "    .dataframe tbody tr th {\n",
       "        vertical-align: top;\n",
       "    }\n",
       "\n",
       "    .dataframe thead th {\n",
       "        text-align: right;\n",
       "    }\n",
       "</style>\n",
       "<table border=\"1\" class=\"dataframe\">\n",
       "  <thead>\n",
       "    <tr style=\"text-align: right;\">\n",
       "      <th></th>\n",
       "      <th>patient</th>\n",
       "      <th>sex</th>\n",
       "      <th>age</th>\n",
       "      <th>breath</th>\n",
       "      <th>o2 sat</th>\n",
       "      <th>heart</th>\n",
       "      <th>systolic bp</th>\n",
       "      <th>temp</th>\n",
       "      <th>alertness</th>\n",
       "      <th>inspired</th>\n",
       "      <th>status</th>\n",
       "    </tr>\n",
       "  </thead>\n",
       "  <tbody>\n",
       "    <tr>\n",
       "      <th>0</th>\n",
       "      <td>E9559</td>\n",
       "      <td>FEMALE</td>\n",
       "      <td>40</td>\n",
       "      <td>24</td>\n",
       "      <td>0.96</td>\n",
       "      <td>105</td>\n",
       "      <td>115</td>\n",
       "      <td>34.9</td>\n",
       "      <td>ALERT</td>\n",
       "      <td>AIR</td>\n",
       "      <td>unrestricted normal activity</td>\n",
       "    </tr>\n",
       "    <tr>\n",
       "      <th>1</th>\n",
       "      <td>E9385</td>\n",
       "      <td>Female</td>\n",
       "      <td>51</td>\n",
       "      <td>19</td>\n",
       "      <td>0.99</td>\n",
       "      <td>90</td>\n",
       "      <td>91</td>\n",
       "      <td>38.1</td>\n",
       "      <td>ALERT</td>\n",
       "      <td>supplemental oxygen</td>\n",
       "      <td>unrestricted normal activity</td>\n",
       "    </tr>\n",
       "    <tr>\n",
       "      <th>2</th>\n",
       "      <td>E3067</td>\n",
       "      <td>female</td>\n",
       "      <td>40</td>\n",
       "      <td>29</td>\n",
       "      <td>0.96</td>\n",
       "      <td>105</td>\n",
       "      <td>95</td>\n",
       "      <td>38.1</td>\n",
       "      <td>ALERT</td>\n",
       "      <td>air</td>\n",
       "      <td>unrestricted normal activity</td>\n",
       "    </tr>\n",
       "    <tr>\n",
       "      <th>3</th>\n",
       "      <td>E9422</td>\n",
       "      <td>FEMALE</td>\n",
       "      <td>66</td>\n",
       "      <td>19</td>\n",
       "      <td>0.96</td>\n",
       "      <td>135</td>\n",
       "      <td>115</td>\n",
       "      <td>38.1</td>\n",
       "      <td>ALERT</td>\n",
       "      <td>AIR</td>\n",
       "      <td>bed/chair bound, no self-care</td>\n",
       "    </tr>\n",
       "    <tr>\n",
       "      <th>4</th>\n",
       "      <td>E8661</td>\n",
       "      <td>MALE</td>\n",
       "      <td>18</td>\n",
       "      <td>22</td>\n",
       "      <td>0.95</td>\n",
       "      <td>105</td>\n",
       "      <td>115</td>\n",
       "      <td>36.3</td>\n",
       "      <td>Confused or Not Alert</td>\n",
       "      <td>air</td>\n",
       "      <td>unrestricted normal activity</td>\n",
       "    </tr>\n",
       "    <tr>\n",
       "      <th>...</th>\n",
       "      <td>...</td>\n",
       "      <td>...</td>\n",
       "      <td>...</td>\n",
       "      <td>...</td>\n",
       "      <td>...</td>\n",
       "      <td>...</td>\n",
       "      <td>...</td>\n",
       "      <td>...</td>\n",
       "      <td>...</td>\n",
       "      <td>...</td>\n",
       "      <td>...</td>\n",
       "    </tr>\n",
       "    <tr>\n",
       "      <th>94</th>\n",
       "      <td>E5361</td>\n",
       "      <td>FEMALE</td>\n",
       "      <td>18</td>\n",
       "      <td>22</td>\n",
       "      <td>0.93</td>\n",
       "      <td>90</td>\n",
       "      <td>101</td>\n",
       "      <td>38.1</td>\n",
       "      <td>confused or not alert</td>\n",
       "      <td>AIR</td>\n",
       "      <td>unrestricted normal activity</td>\n",
       "    </tr>\n",
       "    <tr>\n",
       "      <th>95</th>\n",
       "      <td>E7130</td>\n",
       "      <td>FEMALE</td>\n",
       "      <td>18</td>\n",
       "      <td>22</td>\n",
       "      <td>0.96</td>\n",
       "      <td>50</td>\n",
       "      <td>115</td>\n",
       "      <td>38.1</td>\n",
       "      <td>ALERT</td>\n",
       "      <td>AIR</td>\n",
       "      <td>limited strenuous activity, can do light activity</td>\n",
       "    </tr>\n",
       "    <tr>\n",
       "      <th>96</th>\n",
       "      <td>E5665</td>\n",
       "      <td>FEMALE</td>\n",
       "      <td>85</td>\n",
       "      <td>23</td>\n",
       "      <td>0.96</td>\n",
       "      <td>115</td>\n",
       "      <td>115</td>\n",
       "      <td>38.1</td>\n",
       "      <td>ALERT</td>\n",
       "      <td>AIR</td>\n",
       "      <td>unrestricted normal activity</td>\n",
       "    </tr>\n",
       "    <tr>\n",
       "      <th>97</th>\n",
       "      <td>E9957</td>\n",
       "      <td>Female</td>\n",
       "      <td>40</td>\n",
       "      <td>22</td>\n",
       "      <td>0.98</td>\n",
       "      <td>89</td>\n",
       "      <td>230</td>\n",
       "      <td>38.1</td>\n",
       "      <td>alert</td>\n",
       "      <td>AIR</td>\n",
       "      <td>unrestricted normal activity</td>\n",
       "    </tr>\n",
       "    <tr>\n",
       "      <th>98</th>\n",
       "      <td>E10000</td>\n",
       "      <td>FEMALE</td>\n",
       "      <td>18</td>\n",
       "      <td>23</td>\n",
       "      <td>0.96</td>\n",
       "      <td>105</td>\n",
       "      <td>101</td>\n",
       "      <td>38.1</td>\n",
       "      <td>ALERT</td>\n",
       "      <td>AIR</td>\n",
       "      <td>limited activity, can self-care</td>\n",
       "    </tr>\n",
       "  </tbody>\n",
       "</table>\n",
       "<p>99 rows × 11 columns</p>\n",
       "</div>"
      ],
      "text/plain": [
       "   patient     sex  age  breath  o2 sat  heart  systolic bp  temp  \\\n",
       "0    E9559  FEMALE   40      24    0.96    105          115  34.9   \n",
       "1    E9385  Female   51      19    0.99     90           91  38.1   \n",
       "2    E3067  female   40      29    0.96    105           95  38.1   \n",
       "3    E9422  FEMALE   66      19    0.96    135          115  38.1   \n",
       "4    E8661    MALE   18      22    0.95    105          115  36.3   \n",
       "..     ...     ...  ...     ...     ...    ...          ...   ...   \n",
       "94   E5361  FEMALE   18      22    0.93     90          101  38.1   \n",
       "95   E7130  FEMALE   18      22    0.96     50          115  38.1   \n",
       "96   E5665  FEMALE   85      23    0.96    115          115  38.1   \n",
       "97   E9957  Female   40      22    0.98     89          230  38.1   \n",
       "98  E10000  FEMALE   18      23    0.96    105          101  38.1   \n",
       "\n",
       "                alertness             inspired  \\\n",
       "0                   ALERT                  AIR   \n",
       "1                   ALERT  supplemental oxygen   \n",
       "2                   ALERT                  air   \n",
       "3                   ALERT                  AIR   \n",
       "4   Confused or Not Alert                  air   \n",
       "..                    ...                  ...   \n",
       "94  confused or not alert                  AIR   \n",
       "95                  ALERT                  AIR   \n",
       "96                  ALERT                  AIR   \n",
       "97                  alert                  AIR   \n",
       "98                  ALERT                  AIR   \n",
       "\n",
       "                                               status  \n",
       "0                        unrestricted normal activity  \n",
       "1                        unrestricted normal activity  \n",
       "2                        unrestricted normal activity  \n",
       "3                       bed/chair bound, no self-care  \n",
       "4                        unrestricted normal activity  \n",
       "..                                                ...  \n",
       "94                       unrestricted normal activity  \n",
       "95  limited strenuous activity, can do light activity  \n",
       "96                       unrestricted normal activity  \n",
       "97                       unrestricted normal activity  \n",
       "98                    limited activity, can self-care  \n",
       "\n",
       "[99 rows x 11 columns]"
      ]
     },
     "execution_count": 15,
     "metadata": {},
     "output_type": "execute_result"
    }
   ],
   "source": [
    "people"
   ]
  },
  {
   "cell_type": "code",
   "execution_count": 17,
   "metadata": {},
   "outputs": [],
   "source": [
    "people.to_csv('people.csv', index=False)"
   ]
  },
  {
   "cell_type": "code",
   "execution_count": 18,
   "metadata": {},
   "outputs": [],
   "source": [
    "people.to_excel('people.xlsx', index=False)"
   ]
  },
  {
   "cell_type": "code",
   "execution_count": 21,
   "metadata": {},
   "outputs": [],
   "source": [
    "people.to_json('people.json', orient='records')"
   ]
  },
  {
   "cell_type": "code",
   "execution_count": null,
   "metadata": {},
   "outputs": [],
   "source": []
  },
  {
   "cell_type": "code",
   "execution_count": 22,
   "metadata": {},
   "outputs": [],
   "source": [
    "people = pd.read_json('data.json', orient='records')"
   ]
  },
  {
   "cell_type": "code",
   "execution_count": 23,
   "metadata": {},
   "outputs": [
    {
     "data": {
      "text/html": [
       "<div>\n",
       "<style scoped>\n",
       "    .dataframe tbody tr th:only-of-type {\n",
       "        vertical-align: middle;\n",
       "    }\n",
       "\n",
       "    .dataframe tbody tr th {\n",
       "        vertical-align: top;\n",
       "    }\n",
       "\n",
       "    .dataframe thead th {\n",
       "        text-align: right;\n",
       "    }\n",
       "</style>\n",
       "<table border=\"1\" class=\"dataframe\">\n",
       "  <thead>\n",
       "    <tr style=\"text-align: right;\">\n",
       "      <th></th>\n",
       "      <th>last_name</th>\n",
       "      <th>first_name</th>\n",
       "      <th>phone</th>\n",
       "    </tr>\n",
       "  </thead>\n",
       "  <tbody>\n",
       "    <tr>\n",
       "      <th>0</th>\n",
       "      <td>Boal</td>\n",
       "      <td>Paul</td>\n",
       "      <td>314-598-5494</td>\n",
       "    </tr>\n",
       "    <tr>\n",
       "      <th>1</th>\n",
       "      <td>Lester</td>\n",
       "      <td>Sarahlynn</td>\n",
       "      <td>NaN</td>\n",
       "    </tr>\n",
       "  </tbody>\n",
       "</table>\n",
       "</div>"
      ],
      "text/plain": [
       "  last_name first_name         phone\n",
       "0      Boal       Paul  314-598-5494\n",
       "1    Lester  Sarahlynn           NaN"
      ]
     },
     "execution_count": 23,
     "metadata": {},
     "output_type": "execute_result"
    }
   ],
   "source": [
    "people"
   ]
  },
  {
   "cell_type": "code",
   "execution_count": 26,
   "metadata": {},
   "outputs": [],
   "source": [
    "prices = pd.read_excel('/data/bhmclr_drg.xlsx', sheet_name='Sheet1', skiprows=3)"
   ]
  },
  {
   "cell_type": "code",
   "execution_count": 27,
   "metadata": {},
   "outputs": [
    {
     "data": {
      "text/html": [
       "<div>\n",
       "<style scoped>\n",
       "    .dataframe tbody tr th:only-of-type {\n",
       "        vertical-align: middle;\n",
       "    }\n",
       "\n",
       "    .dataframe tbody tr th {\n",
       "        vertical-align: top;\n",
       "    }\n",
       "\n",
       "    .dataframe thead th {\n",
       "        text-align: right;\n",
       "    }\n",
       "</style>\n",
       "<table border=\"1\" class=\"dataframe\">\n",
       "  <thead>\n",
       "    <tr style=\"text-align: right;\">\n",
       "      <th></th>\n",
       "      <th>Location</th>\n",
       "      <th>Code Type</th>\n",
       "      <th>Code</th>\n",
       "      <th>NDC</th>\n",
       "      <th>Rev Code</th>\n",
       "      <th>Procedure</th>\n",
       "      <th>Procedure Description</th>\n",
       "      <th>Quantity</th>\n",
       "      <th>Payer</th>\n",
       "      <th>IP Charge</th>\n",
       "      <th>IP Expected Reimbursement</th>\n",
       "      <th>MIN_IP_XR</th>\n",
       "      <th>MAX_IP_XR</th>\n",
       "      <th>IP Cash Price</th>\n",
       "      <th>OP Charge</th>\n",
       "      <th>OP Expected Reimbursement</th>\n",
       "      <th>MIN_OP_XR</th>\n",
       "      <th>MAX_OP_XR</th>\n",
       "      <th>OP Cash Price</th>\n",
       "    </tr>\n",
       "  </thead>\n",
       "  <tbody>\n",
       "    <tr>\n",
       "      <th>0</th>\n",
       "      <td>BHMC LITTLE ROCK</td>\n",
       "      <td>DRG</td>\n",
       "      <td>MS-DRG V38 (FY 2021) 013</td>\n",
       "      <td>NaN</td>\n",
       "      <td>NaN</td>\n",
       "      <td>MS013</td>\n",
       "      <td>Tracheostomy For Face, Mouth And Neck Diagnose...</td>\n",
       "      <td>1</td>\n",
       "      <td>AETNA [65000]</td>\n",
       "      <td>59006.00</td>\n",
       "      <td>31705.95</td>\n",
       "      <td>11936.11</td>\n",
       "      <td>31705.95</td>\n",
       "      <td>15341.56</td>\n",
       "      <td>0</td>\n",
       "      <td>NaN</td>\n",
       "      <td>NaN</td>\n",
       "      <td>NaN</td>\n",
       "      <td>NaN</td>\n",
       "    </tr>\n",
       "    <tr>\n",
       "      <th>1</th>\n",
       "      <td>BHMC LITTLE ROCK</td>\n",
       "      <td>DRG</td>\n",
       "      <td>MS-DRG V38 (FY 2021) 022</td>\n",
       "      <td>NaN</td>\n",
       "      <td>NaN</td>\n",
       "      <td>MS022</td>\n",
       "      <td>Intracranial Vascular Procedures With Principa...</td>\n",
       "      <td>1</td>\n",
       "      <td>AETNA [65000]</td>\n",
       "      <td>61399.00</td>\n",
       "      <td>61399.00</td>\n",
       "      <td>15963.74</td>\n",
       "      <td>61399.00</td>\n",
       "      <td>15963.74</td>\n",
       "      <td>0</td>\n",
       "      <td>NaN</td>\n",
       "      <td>NaN</td>\n",
       "      <td>NaN</td>\n",
       "      <td>NaN</td>\n",
       "    </tr>\n",
       "    <tr>\n",
       "      <th>2</th>\n",
       "      <td>BHMC LITTLE ROCK</td>\n",
       "      <td>DRG</td>\n",
       "      <td>MS-DRG V38 (FY 2021) 024</td>\n",
       "      <td>NaN</td>\n",
       "      <td>NaN</td>\n",
       "      <td>MS024</td>\n",
       "      <td>Craniotomy With Major Device Implant Or Acute ...</td>\n",
       "      <td>1</td>\n",
       "      <td>AETNA [65000]</td>\n",
       "      <td>72401.56</td>\n",
       "      <td>NaN</td>\n",
       "      <td>7770.00</td>\n",
       "      <td>23719.14</td>\n",
       "      <td>18824.41</td>\n",
       "      <td>0</td>\n",
       "      <td>NaN</td>\n",
       "      <td>NaN</td>\n",
       "      <td>NaN</td>\n",
       "      <td>NaN</td>\n",
       "    </tr>\n",
       "    <tr>\n",
       "      <th>3</th>\n",
       "      <td>BHMC LITTLE ROCK</td>\n",
       "      <td>DRG</td>\n",
       "      <td>MS-DRG V38 (FY 2021) 025</td>\n",
       "      <td>NaN</td>\n",
       "      <td>NaN</td>\n",
       "      <td>MS025</td>\n",
       "      <td>Craniotomy And Endovascular Intracranial Proce...</td>\n",
       "      <td>1</td>\n",
       "      <td>AETNA [65000]</td>\n",
       "      <td>76565.21</td>\n",
       "      <td>57449.30</td>\n",
       "      <td>7770.00</td>\n",
       "      <td>57449.30</td>\n",
       "      <td>19906.95</td>\n",
       "      <td>0</td>\n",
       "      <td>NaN</td>\n",
       "      <td>NaN</td>\n",
       "      <td>NaN</td>\n",
       "      <td>NaN</td>\n",
       "    </tr>\n",
       "    <tr>\n",
       "      <th>4</th>\n",
       "      <td>BHMC LITTLE ROCK</td>\n",
       "      <td>DRG</td>\n",
       "      <td>MS-DRG V38 (FY 2021) 026</td>\n",
       "      <td>NaN</td>\n",
       "      <td>NaN</td>\n",
       "      <td>MS026</td>\n",
       "      <td>Craniotomy And Endovascular Intracranial Proce...</td>\n",
       "      <td>1</td>\n",
       "      <td>AETNA [65000]</td>\n",
       "      <td>64748.06</td>\n",
       "      <td>29999.01</td>\n",
       "      <td>2913.75</td>\n",
       "      <td>29999.01</td>\n",
       "      <td>16834.50</td>\n",
       "      <td>0</td>\n",
       "      <td>NaN</td>\n",
       "      <td>NaN</td>\n",
       "      <td>NaN</td>\n",
       "      <td>NaN</td>\n",
       "    </tr>\n",
       "    <tr>\n",
       "      <th>...</th>\n",
       "      <td>...</td>\n",
       "      <td>...</td>\n",
       "      <td>...</td>\n",
       "      <td>...</td>\n",
       "      <td>...</td>\n",
       "      <td>...</td>\n",
       "      <td>...</td>\n",
       "      <td>...</td>\n",
       "      <td>...</td>\n",
       "      <td>...</td>\n",
       "      <td>...</td>\n",
       "      <td>...</td>\n",
       "      <td>...</td>\n",
       "      <td>...</td>\n",
       "      <td>...</td>\n",
       "      <td>...</td>\n",
       "      <td>...</td>\n",
       "      <td>...</td>\n",
       "      <td>...</td>\n",
       "    </tr>\n",
       "    <tr>\n",
       "      <th>3859</th>\n",
       "      <td>BHMC LITTLE ROCK</td>\n",
       "      <td>DRG</td>\n",
       "      <td>MS-DRG V38 (FY 2021) 987</td>\n",
       "      <td>NaN</td>\n",
       "      <td>NaN</td>\n",
       "      <td>MS987</td>\n",
       "      <td>Non-Extensive O.R. Procedures Unrelated To Pri...</td>\n",
       "      <td>1</td>\n",
       "      <td>MULTIPLAN</td>\n",
       "      <td>73603.45</td>\n",
       "      <td>62562.93</td>\n",
       "      <td>6948.00</td>\n",
       "      <td>35130.61</td>\n",
       "      <td>19136.90</td>\n",
       "      <td>0</td>\n",
       "      <td>NaN</td>\n",
       "      <td>NaN</td>\n",
       "      <td>NaN</td>\n",
       "      <td>NaN</td>\n",
       "    </tr>\n",
       "    <tr>\n",
       "      <th>3860</th>\n",
       "      <td>BHMC LITTLE ROCK</td>\n",
       "      <td>DRG</td>\n",
       "      <td>MS-DRG V38 (FY 2021) 988</td>\n",
       "      <td>NaN</td>\n",
       "      <td>NaN</td>\n",
       "      <td>MS988</td>\n",
       "      <td>Non-Extensive O.R. Procedures Unrelated To Pri...</td>\n",
       "      <td>1</td>\n",
       "      <td>MULTIPLAN</td>\n",
       "      <td>41080.89</td>\n",
       "      <td>34918.76</td>\n",
       "      <td>3885.00</td>\n",
       "      <td>22463.34</td>\n",
       "      <td>10681.03</td>\n",
       "      <td>0</td>\n",
       "      <td>NaN</td>\n",
       "      <td>NaN</td>\n",
       "      <td>NaN</td>\n",
       "      <td>NaN</td>\n",
       "    </tr>\n",
       "    <tr>\n",
       "      <th>3861</th>\n",
       "      <td>BHMC LITTLE ROCK</td>\n",
       "      <td>DRG</td>\n",
       "      <td>MS-DRG V38 (FY 2021) 989</td>\n",
       "      <td>NaN</td>\n",
       "      <td>NaN</td>\n",
       "      <td>MS989</td>\n",
       "      <td>Non-Extensive O.R. Procedures Unrelated To Pri...</td>\n",
       "      <td>1</td>\n",
       "      <td>MULTIPLAN</td>\n",
       "      <td>32950.18</td>\n",
       "      <td>28007.65</td>\n",
       "      <td>983.98</td>\n",
       "      <td>8567.05</td>\n",
       "      <td>8567.05</td>\n",
       "      <td>0</td>\n",
       "      <td>NaN</td>\n",
       "      <td>NaN</td>\n",
       "      <td>NaN</td>\n",
       "      <td>NaN</td>\n",
       "    </tr>\n",
       "    <tr>\n",
       "      <th>3862</th>\n",
       "      <td>BHMC LITTLE ROCK</td>\n",
       "      <td>DRG</td>\n",
       "      <td>MS-DRG V38 (FY 2021) 998</td>\n",
       "      <td>NaN</td>\n",
       "      <td>NaN</td>\n",
       "      <td>MS998</td>\n",
       "      <td>Principal Diagnosis Invalid As Discharge Diagn...</td>\n",
       "      <td>1</td>\n",
       "      <td>MULTIPLAN</td>\n",
       "      <td>18723.35</td>\n",
       "      <td>15914.85</td>\n",
       "      <td>971.25</td>\n",
       "      <td>11846.75</td>\n",
       "      <td>4868.07</td>\n",
       "      <td>0</td>\n",
       "      <td>NaN</td>\n",
       "      <td>NaN</td>\n",
       "      <td>NaN</td>\n",
       "      <td>NaN</td>\n",
       "    </tr>\n",
       "    <tr>\n",
       "      <th>3863</th>\n",
       "      <td>BHMC LITTLE ROCK</td>\n",
       "      <td>DRG</td>\n",
       "      <td>MS-DRG V38 (FY 2021) 999</td>\n",
       "      <td>NaN</td>\n",
       "      <td>NaN</td>\n",
       "      <td>MS999</td>\n",
       "      <td>Ungroupable</td>\n",
       "      <td>1</td>\n",
       "      <td>MULTIPLAN</td>\n",
       "      <td>67296.20</td>\n",
       "      <td>57201.77</td>\n",
       "      <td>6315.03</td>\n",
       "      <td>17497.01</td>\n",
       "      <td>17497.01</td>\n",
       "      <td>0</td>\n",
       "      <td>NaN</td>\n",
       "      <td>NaN</td>\n",
       "      <td>NaN</td>\n",
       "      <td>NaN</td>\n",
       "    </tr>\n",
       "  </tbody>\n",
       "</table>\n",
       "<p>3864 rows × 19 columns</p>\n",
       "</div>"
      ],
      "text/plain": [
       "              Location Code Type                      Code  NDC  Rev Code  \\\n",
       "0     BHMC LITTLE ROCK       DRG  MS-DRG V38 (FY 2021) 013  NaN       NaN   \n",
       "1     BHMC LITTLE ROCK       DRG  MS-DRG V38 (FY 2021) 022  NaN       NaN   \n",
       "2     BHMC LITTLE ROCK       DRG  MS-DRG V38 (FY 2021) 024  NaN       NaN   \n",
       "3     BHMC LITTLE ROCK       DRG  MS-DRG V38 (FY 2021) 025  NaN       NaN   \n",
       "4     BHMC LITTLE ROCK       DRG  MS-DRG V38 (FY 2021) 026  NaN       NaN   \n",
       "...                ...       ...                       ...  ...       ...   \n",
       "3859  BHMC LITTLE ROCK       DRG  MS-DRG V38 (FY 2021) 987  NaN       NaN   \n",
       "3860  BHMC LITTLE ROCK       DRG  MS-DRG V38 (FY 2021) 988  NaN       NaN   \n",
       "3861  BHMC LITTLE ROCK       DRG  MS-DRG V38 (FY 2021) 989  NaN       NaN   \n",
       "3862  BHMC LITTLE ROCK       DRG  MS-DRG V38 (FY 2021) 998  NaN       NaN   \n",
       "3863  BHMC LITTLE ROCK       DRG  MS-DRG V38 (FY 2021) 999  NaN       NaN   \n",
       "\n",
       "     Procedure                              Procedure Description  Quantity  \\\n",
       "0        MS013  Tracheostomy For Face, Mouth And Neck Diagnose...         1   \n",
       "1        MS022  Intracranial Vascular Procedures With Principa...         1   \n",
       "2        MS024  Craniotomy With Major Device Implant Or Acute ...         1   \n",
       "3        MS025  Craniotomy And Endovascular Intracranial Proce...         1   \n",
       "4        MS026  Craniotomy And Endovascular Intracranial Proce...         1   \n",
       "...        ...                                                ...       ...   \n",
       "3859     MS987  Non-Extensive O.R. Procedures Unrelated To Pri...         1   \n",
       "3860     MS988  Non-Extensive O.R. Procedures Unrelated To Pri...         1   \n",
       "3861     MS989  Non-Extensive O.R. Procedures Unrelated To Pri...         1   \n",
       "3862     MS998  Principal Diagnosis Invalid As Discharge Diagn...         1   \n",
       "3863     MS999                                        Ungroupable         1   \n",
       "\n",
       "              Payer  IP Charge  IP Expected Reimbursement  MIN_IP_XR  \\\n",
       "0     AETNA [65000]   59006.00                   31705.95   11936.11   \n",
       "1     AETNA [65000]   61399.00                   61399.00   15963.74   \n",
       "2     AETNA [65000]   72401.56                        NaN    7770.00   \n",
       "3     AETNA [65000]   76565.21                   57449.30    7770.00   \n",
       "4     AETNA [65000]   64748.06                   29999.01    2913.75   \n",
       "...             ...        ...                        ...        ...   \n",
       "3859      MULTIPLAN   73603.45                   62562.93    6948.00   \n",
       "3860      MULTIPLAN   41080.89                   34918.76    3885.00   \n",
       "3861      MULTIPLAN   32950.18                   28007.65     983.98   \n",
       "3862      MULTIPLAN   18723.35                   15914.85     971.25   \n",
       "3863      MULTIPLAN   67296.20                   57201.77    6315.03   \n",
       "\n",
       "      MAX_IP_XR  IP Cash Price  OP Charge  OP Expected Reimbursement  \\\n",
       "0      31705.95       15341.56          0                        NaN   \n",
       "1      61399.00       15963.74          0                        NaN   \n",
       "2      23719.14       18824.41          0                        NaN   \n",
       "3      57449.30       19906.95          0                        NaN   \n",
       "4      29999.01       16834.50          0                        NaN   \n",
       "...         ...            ...        ...                        ...   \n",
       "3859   35130.61       19136.90          0                        NaN   \n",
       "3860   22463.34       10681.03          0                        NaN   \n",
       "3861    8567.05        8567.05          0                        NaN   \n",
       "3862   11846.75        4868.07          0                        NaN   \n",
       "3863   17497.01       17497.01          0                        NaN   \n",
       "\n",
       "      MIN_OP_XR  MAX_OP_XR  OP Cash Price  \n",
       "0           NaN        NaN            NaN  \n",
       "1           NaN        NaN            NaN  \n",
       "2           NaN        NaN            NaN  \n",
       "3           NaN        NaN            NaN  \n",
       "4           NaN        NaN            NaN  \n",
       "...         ...        ...            ...  \n",
       "3859        NaN        NaN            NaN  \n",
       "3860        NaN        NaN            NaN  \n",
       "3861        NaN        NaN            NaN  \n",
       "3862        NaN        NaN            NaN  \n",
       "3863        NaN        NaN            NaN  \n",
       "\n",
       "[3864 rows x 19 columns]"
      ]
     },
     "execution_count": 27,
     "metadata": {},
     "output_type": "execute_result"
    }
   ],
   "source": [
    "prices"
   ]
  },
  {
   "cell_type": "code",
   "execution_count": 28,
   "metadata": {},
   "outputs": [
    {
     "data": {
      "text/plain": [
       "Location                      object\n",
       "Code Type                     object\n",
       "Code                          object\n",
       "NDC                          float64\n",
       "Rev Code                     float64\n",
       "Procedure                     object\n",
       "Procedure Description         object\n",
       "Quantity                       int64\n",
       "Payer                         object\n",
       "IP Charge                    float64\n",
       "IP Expected Reimbursement    float64\n",
       "MIN_IP_XR                    float64\n",
       "MAX_IP_XR                    float64\n",
       "IP Cash Price                float64\n",
       "OP Charge                      int64\n",
       "OP Expected Reimbursement    float64\n",
       "MIN_OP_XR                    float64\n",
       "MAX_OP_XR                    float64\n",
       "OP Cash Price                float64\n",
       "dtype: object"
      ]
     },
     "execution_count": 28,
     "metadata": {},
     "output_type": "execute_result"
    }
   ],
   "source": [
    "prices.dtypes"
   ]
  },
  {
   "cell_type": "code",
   "execution_count": 30,
   "metadata": {},
   "outputs": [
    {
     "data": {
      "text/plain": [
       "array(['AETNA [65000]', 'ALLWELL [15100]',\n",
       "       'AR BLUE CROSS BLUE SHIELD [25001]', 'ARKANSAS TOTAL CARE [40700]',\n",
       "       'HEALTHSCOPE [95700]', 'MULTIPLAN'], dtype=object)"
      ]
     },
     "execution_count": 30,
     "metadata": {},
     "output_type": "execute_result"
    }
   ],
   "source": [
    "prices['Payer'].unique()"
   ]
  },
  {
   "cell_type": "code",
   "execution_count": 31,
   "metadata": {},
   "outputs": [
    {
     "data": {
      "text/plain": [
       "ALLWELL [15100]                      650\n",
       "ARKANSAS TOTAL CARE [40700]          650\n",
       "AETNA [65000]                        641\n",
       "MULTIPLAN                            641\n",
       "AR BLUE CROSS BLUE SHIELD [25001]    641\n",
       "HEALTHSCOPE [95700]                  641\n",
       "Name: Payer, dtype: int64"
      ]
     },
     "execution_count": 31,
     "metadata": {},
     "output_type": "execute_result"
    }
   ],
   "source": [
    "prices['Payer'].value_counts()"
   ]
  },
  {
   "cell_type": "code",
   "execution_count": 38,
   "metadata": {},
   "outputs": [],
   "source": [
    "people = pd.read_fwf('people.txt', colspecs=[(0,3),(14,30),(30,42)])"
   ]
  },
  {
   "cell_type": "code",
   "execution_count": 39,
   "metadata": {},
   "outputs": [
    {
     "data": {
      "text/html": [
       "<div>\n",
       "<style scoped>\n",
       "    .dataframe tbody tr th:only-of-type {\n",
       "        vertical-align: middle;\n",
       "    }\n",
       "\n",
       "    .dataframe tbody tr th {\n",
       "        vertical-align: top;\n",
       "    }\n",
       "\n",
       "    .dataframe thead th {\n",
       "        text-align: right;\n",
       "    }\n",
       "</style>\n",
       "<table border=\"1\" class=\"dataframe\">\n",
       "  <thead>\n",
       "    <tr style=\"text-align: right;\">\n",
       "      <th></th>\n",
       "      <th>las</th>\n",
       "      <th>first name</th>\n",
       "      <th>phone</th>\n",
       "    </tr>\n",
       "  </thead>\n",
       "  <tbody>\n",
       "    <tr>\n",
       "      <th>0</th>\n",
       "      <td>Boa</td>\n",
       "      <td>Paul</td>\n",
       "      <td>314-598-5494</td>\n",
       "    </tr>\n",
       "    <tr>\n",
       "      <th>1</th>\n",
       "      <td>Les</td>\n",
       "      <td>Sarahlynn</td>\n",
       "      <td>NaN</td>\n",
       "    </tr>\n",
       "  </tbody>\n",
       "</table>\n",
       "</div>"
      ],
      "text/plain": [
       "   las first name         phone\n",
       "0  Boa       Paul  314-598-5494\n",
       "1  Les  Sarahlynn           NaN"
      ]
     },
     "execution_count": 39,
     "metadata": {},
     "output_type": "execute_result"
    }
   ],
   "source": [
    "people"
   ]
  },
  {
   "cell_type": "code",
   "execution_count": 40,
   "metadata": {},
   "outputs": [
    {
     "data": {
      "text/html": [
       "<div>\n",
       "<style scoped>\n",
       "    .dataframe tbody tr th:only-of-type {\n",
       "        vertical-align: middle;\n",
       "    }\n",
       "\n",
       "    .dataframe tbody tr th {\n",
       "        vertical-align: top;\n",
       "    }\n",
       "\n",
       "    .dataframe thead th {\n",
       "        text-align: right;\n",
       "    }\n",
       "</style>\n",
       "<table border=\"1\" class=\"dataframe\">\n",
       "  <thead>\n",
       "    <tr style=\"text-align: right;\">\n",
       "      <th></th>\n",
       "      <th>Age</th>\n",
       "      <th>Gender</th>\n",
       "      <th>Total_Bilirubin</th>\n",
       "      <th>Direct_Bilirubin</th>\n",
       "      <th>Alkaline_Phosphotase</th>\n",
       "      <th>Alamine_Aminotransferase</th>\n",
       "      <th>Aspartate_Aminotransferase</th>\n",
       "      <th>Total_Protiens</th>\n",
       "      <th>Albumin</th>\n",
       "      <th>Albumin_and_Globulin_Ratio</th>\n",
       "      <th>Dataset</th>\n",
       "    </tr>\n",
       "  </thead>\n",
       "  <tbody>\n",
       "    <tr>\n",
       "      <th>0</th>\n",
       "      <td>65</td>\n",
       "      <td>Female</td>\n",
       "      <td>0.7</td>\n",
       "      <td>0.1</td>\n",
       "      <td>187</td>\n",
       "      <td>16</td>\n",
       "      <td>18</td>\n",
       "      <td>6.8</td>\n",
       "      <td>3.3</td>\n",
       "      <td>0.90</td>\n",
       "      <td>1</td>\n",
       "    </tr>\n",
       "    <tr>\n",
       "      <th>1</th>\n",
       "      <td>62</td>\n",
       "      <td>Male</td>\n",
       "      <td>10.9</td>\n",
       "      <td>5.5</td>\n",
       "      <td>699</td>\n",
       "      <td>64</td>\n",
       "      <td>100</td>\n",
       "      <td>7.5</td>\n",
       "      <td>3.2</td>\n",
       "      <td>0.74</td>\n",
       "      <td>1</td>\n",
       "    </tr>\n",
       "    <tr>\n",
       "      <th>2</th>\n",
       "      <td>62</td>\n",
       "      <td>Male</td>\n",
       "      <td>7.3</td>\n",
       "      <td>4.1</td>\n",
       "      <td>490</td>\n",
       "      <td>60</td>\n",
       "      <td>68</td>\n",
       "      <td>7.0</td>\n",
       "      <td>3.3</td>\n",
       "      <td>0.89</td>\n",
       "      <td>1</td>\n",
       "    </tr>\n",
       "    <tr>\n",
       "      <th>3</th>\n",
       "      <td>58</td>\n",
       "      <td>Male</td>\n",
       "      <td>1.0</td>\n",
       "      <td>0.4</td>\n",
       "      <td>182</td>\n",
       "      <td>14</td>\n",
       "      <td>20</td>\n",
       "      <td>6.8</td>\n",
       "      <td>3.4</td>\n",
       "      <td>1.00</td>\n",
       "      <td>1</td>\n",
       "    </tr>\n",
       "    <tr>\n",
       "      <th>4</th>\n",
       "      <td>72</td>\n",
       "      <td>Male</td>\n",
       "      <td>3.9</td>\n",
       "      <td>2.0</td>\n",
       "      <td>195</td>\n",
       "      <td>27</td>\n",
       "      <td>59</td>\n",
       "      <td>7.3</td>\n",
       "      <td>2.4</td>\n",
       "      <td>0.40</td>\n",
       "      <td>1</td>\n",
       "    </tr>\n",
       "    <tr>\n",
       "      <th>...</th>\n",
       "      <td>...</td>\n",
       "      <td>...</td>\n",
       "      <td>...</td>\n",
       "      <td>...</td>\n",
       "      <td>...</td>\n",
       "      <td>...</td>\n",
       "      <td>...</td>\n",
       "      <td>...</td>\n",
       "      <td>...</td>\n",
       "      <td>...</td>\n",
       "      <td>...</td>\n",
       "    </tr>\n",
       "    <tr>\n",
       "      <th>578</th>\n",
       "      <td>60</td>\n",
       "      <td>Male</td>\n",
       "      <td>0.5</td>\n",
       "      <td>0.1</td>\n",
       "      <td>500</td>\n",
       "      <td>20</td>\n",
       "      <td>34</td>\n",
       "      <td>5.9</td>\n",
       "      <td>1.6</td>\n",
       "      <td>0.37</td>\n",
       "      <td>2</td>\n",
       "    </tr>\n",
       "    <tr>\n",
       "      <th>579</th>\n",
       "      <td>40</td>\n",
       "      <td>Male</td>\n",
       "      <td>0.6</td>\n",
       "      <td>0.1</td>\n",
       "      <td>98</td>\n",
       "      <td>35</td>\n",
       "      <td>31</td>\n",
       "      <td>6.0</td>\n",
       "      <td>3.2</td>\n",
       "      <td>1.10</td>\n",
       "      <td>1</td>\n",
       "    </tr>\n",
       "    <tr>\n",
       "      <th>580</th>\n",
       "      <td>52</td>\n",
       "      <td>Male</td>\n",
       "      <td>0.8</td>\n",
       "      <td>0.2</td>\n",
       "      <td>245</td>\n",
       "      <td>48</td>\n",
       "      <td>49</td>\n",
       "      <td>6.4</td>\n",
       "      <td>3.2</td>\n",
       "      <td>1.00</td>\n",
       "      <td>1</td>\n",
       "    </tr>\n",
       "    <tr>\n",
       "      <th>581</th>\n",
       "      <td>31</td>\n",
       "      <td>Male</td>\n",
       "      <td>1.3</td>\n",
       "      <td>0.5</td>\n",
       "      <td>184</td>\n",
       "      <td>29</td>\n",
       "      <td>32</td>\n",
       "      <td>6.8</td>\n",
       "      <td>3.4</td>\n",
       "      <td>1.00</td>\n",
       "      <td>1</td>\n",
       "    </tr>\n",
       "    <tr>\n",
       "      <th>582</th>\n",
       "      <td>38</td>\n",
       "      <td>Male</td>\n",
       "      <td>1.0</td>\n",
       "      <td>0.3</td>\n",
       "      <td>216</td>\n",
       "      <td>21</td>\n",
       "      <td>24</td>\n",
       "      <td>7.3</td>\n",
       "      <td>4.4</td>\n",
       "      <td>1.50</td>\n",
       "      <td>2</td>\n",
       "    </tr>\n",
       "  </tbody>\n",
       "</table>\n",
       "<p>583 rows × 11 columns</p>\n",
       "</div>"
      ],
      "text/plain": [
       "     Age  Gender  Total_Bilirubin  Direct_Bilirubin  Alkaline_Phosphotase  \\\n",
       "0     65  Female              0.7               0.1                   187   \n",
       "1     62    Male             10.9               5.5                   699   \n",
       "2     62    Male              7.3               4.1                   490   \n",
       "3     58    Male              1.0               0.4                   182   \n",
       "4     72    Male              3.9               2.0                   195   \n",
       "..   ...     ...              ...               ...                   ...   \n",
       "578   60    Male              0.5               0.1                   500   \n",
       "579   40    Male              0.6               0.1                    98   \n",
       "580   52    Male              0.8               0.2                   245   \n",
       "581   31    Male              1.3               0.5                   184   \n",
       "582   38    Male              1.0               0.3                   216   \n",
       "\n",
       "     Alamine_Aminotransferase  Aspartate_Aminotransferase  Total_Protiens  \\\n",
       "0                          16                          18             6.8   \n",
       "1                          64                         100             7.5   \n",
       "2                          60                          68             7.0   \n",
       "3                          14                          20             6.8   \n",
       "4                          27                          59             7.3   \n",
       "..                        ...                         ...             ...   \n",
       "578                        20                          34             5.9   \n",
       "579                        35                          31             6.0   \n",
       "580                        48                          49             6.4   \n",
       "581                        29                          32             6.8   \n",
       "582                        21                          24             7.3   \n",
       "\n",
       "     Albumin  Albumin_and_Globulin_Ratio  Dataset  \n",
       "0        3.3                        0.90        1  \n",
       "1        3.2                        0.74        1  \n",
       "2        3.3                        0.89        1  \n",
       "3        3.4                        1.00        1  \n",
       "4        2.4                        0.40        1  \n",
       "..       ...                         ...      ...  \n",
       "578      1.6                        0.37        2  \n",
       "579      3.2                        1.10        1  \n",
       "580      3.2                        1.00        1  \n",
       "581      3.4                        1.00        1  \n",
       "582      4.4                        1.50        2  \n",
       "\n",
       "[583 rows x 11 columns]"
      ]
     },
     "execution_count": 40,
     "metadata": {},
     "output_type": "execute_result"
    }
   ],
   "source": [
    "df"
   ]
  },
  {
   "cell_type": "code",
   "execution_count": 41,
   "metadata": {},
   "outputs": [
    {
     "data": {
      "text/plain": [
       "<matplotlib.axes._subplots.AxesSubplot at 0x7f8a8d0ba860>"
      ]
     },
     "execution_count": 41,
     "metadata": {},
     "output_type": "execute_result"
    },
    {
     "data": {
      "image/png": "[encoded data removed]",
      "text/plain": [
       "<Figure size 432x288 with 1 Axes>"
      ]
     },
     "metadata": {
      "needs_background": "light"
     },
     "output_type": "display_data"
    }
   ],
   "source": [
    "df['Age'].hist()"
   ]
  },
  {
   "cell_type": "code",
   "execution_count": 42,
   "metadata": {},
   "outputs": [
    {
     "data": {
      "text/plain": [
       "<matplotlib.axes._subplots.AxesSubplot at 0x7f8a8a901978>"
      ]
     },
     "execution_count": 42,
     "metadata": {},
     "output_type": "execute_result"
    },
    {
     "data": {
      "image/png": "[encoded data removed]",
      "text/plain": [
       "<Figure size 432x288 with 1 Axes>"
      ]
     },
     "metadata": {
      "needs_background": "light"
     },
     "output_type": "display_data"
    }
   ],
   "source": [
    "df['Total_Bilirubin'].hist()"
   ]
  },
  {
   "cell_type": "code",
   "execution_count": 43,
   "metadata": {},
   "outputs": [
    {
     "data": {
      "text/plain": [
       "<matplotlib.axes._subplots.AxesSubplot at 0x7f8a8a85d0f0>"
      ]
     },
     "execution_count": 43,
     "metadata": {},
     "output_type": "execute_result"
    },
    {
     "data": {
      "image/png": "[encoded data removed]",
      "text/plain": [
       "<Figure size 432x288 with 1 Axes>"
      ]
     },
     "metadata": {
      "needs_background": "light"
     },
     "output_type": "display_data"
    }
   ],
   "source": [
    "df['Direct_Bilirubin'].hist()"
   ]
  },
  {
   "cell_type": "code",
   "execution_count": 44,
   "metadata": {},
   "outputs": [
    {
     "data": {
      "text/plain": [
       "1    416\n",
       "2    167\n",
       "Name: Dataset, dtype: int64"
      ]
     },
     "execution_count": 44,
     "metadata": {},
     "output_type": "execute_result"
    }
   ],
   "source": [
    "df['Dataset'].value_counts()"
   ]
  },
  {
   "cell_type": "code",
   "execution_count": 47,
   "metadata": {},
   "outputs": [
    {
     "data": {
      "text/plain": [
       "<matplotlib.axes._subplots.AxesSubplot at 0x7f8a8a5c8cc0>"
      ]
     },
     "execution_count": 47,
     "metadata": {},
     "output_type": "execute_result"
    },
    {
     "data": {
      "image/png": "[encoded data removed]",
      "text/plain": [
       "<Figure size 432x288 with 1 Axes>"
      ]
     },
     "metadata": {
      "needs_background": "light"
     },
     "output_type": "display_data"
    }
   ],
   "source": [
    "df.plot.scatter(x='Direct_Bilirubin', y='Total_Bilirubin')"
   ]
  },
  {
   "cell_type": "code",
   "execution_count": 51,
   "metadata": {},
   "outputs": [
    {
     "data": {
      "text/plain": [
       "<matplotlib.axes._subplots.AxesSubplot at 0x7f8a6ca1ca58>"
      ]
     },
     "execution_count": 51,
     "metadata": {},
     "output_type": "execute_result"
    },
    {
     "data": {
      "image/png": "[encoded data removed]",
      "text/plain": [
       "<Figure size 432x288 with 1 Axes>"
      ]
     },
     "metadata": {
      "needs_background": "light"
     },
     "output_type": "display_data"
    }
   ],
   "source": [
    "import seaborn as sns\n",
    "\n",
    "sns.scatterplot(data=df, x='Direct_Bilirubin', y='Total_Bilirubin', hue='Dataset', alpha=0.2)"
   ]
  },
  {
   "cell_type": "code",
   "execution_count": null,
   "metadata": {},
   "outputs": [],
   "source": []
  }
 ],
 "metadata": {
  "kernelspec": {
   "display_name": "Python 3",
   "language": "python",
   "name": "python3"
  },
  "language_info": {
   "codemirror_mode": {
    "name": "ipython",
    "version": 3
   },
   "file_extension": ".py",
   "mimetype": "text/x-python",
   "name": "python",
   "nbconvert_exporter": "python",
   "pygments_lexer": "ipython3",
   "version": "3.6.7"
  }
 },
 "nbformat": 4,
 "nbformat_minor": 4
}
