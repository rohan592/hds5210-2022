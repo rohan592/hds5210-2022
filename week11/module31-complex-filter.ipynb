{
 "cells": [
  {
   "cell_type": "code",
   "execution_count": 2,
   "metadata": {},
   "outputs": [],
   "source": [
    "import pandas as pd"
   ]
  },
  {
   "cell_type": "code",
   "execution_count": 3,
   "metadata": {},
   "outputs": [],
   "source": [
    "data = pd.read_csv('/data/complications.csv')"
   ]
  },
  {
   "cell_type": "markdown",
   "metadata": {},
   "source": [
    "# Multiple Filters\n",
    "\n",
    "Where the **Compared to National** is not `Number of Cases Too Small` and the Denominator is not `Not Available`, except we want all the mortality related measures regardless of those first two rules."
   ]
  },
  {
   "cell_type": "code",
   "execution_count": null,
   "metadata": {},
   "outputs": [],
   "source": [
    "too_small = data['compared_to_national'] == 'Number of Cases Too Small'\n",
    "not_avail = data['denominator'] == 'Not Available'\n",
    "mortality = data['measure_id'].str.contains(\"^MORT\")"
   ]
  },
  {
   "cell_type": "code",
   "execution_count": null,
   "metadata": {},
   "outputs": [],
   "source": [
    "data.shape"
   ]
  },
  {
   "cell_type": "code",
   "execution_count": null,
   "metadata": {},
   "outputs": [],
   "source": [
    "data[too_small].shape"
   ]
  },
  {
   "cell_type": "code",
   "execution_count": null,
   "metadata": {},
   "outputs": [],
   "source": [
    "data[not_avail].shape"
   ]
  },
  {
   "cell_type": "code",
   "execution_count": null,
   "metadata": {},
   "outputs": [],
   "source": [
    "data[mortality].shape"
   ]
  },
  {
   "cell_type": "code",
   "execution_count": null,
   "metadata": {},
   "outputs": [],
   "source": [
    "subset = data[mortality & (~too_small & ~not_avail)]"
   ]
  },
  {
   "cell_type": "code",
   "execution_count": null,
   "metadata": {},
   "outputs": [],
   "source": [
    "subset.shape"
   ]
  },
  {
   "cell_type": "code",
   "execution_count": null,
   "metadata": {},
   "outputs": [],
   "source": [
    "subset.head()"
   ]
  },
  {
   "cell_type": "code",
   "execution_count": null,
   "metadata": {},
   "outputs": [],
   "source": [
    "subset[mortality & too_small].head()"
   ]
  },
  {
   "cell_type": "code",
   "execution_count": null,
   "metadata": {},
   "outputs": [],
   "source": [
    "subset[mortality & too_small].shape"
   ]
  },
  {
   "cell_type": "code",
   "execution_count": null,
   "metadata": {},
   "outputs": [],
   "source": []
  },
  {
   "cell_type": "markdown",
   "metadata": {},
   "source": [
    "# DataFrame.query()"
   ]
  },
  {
   "cell_type": "code",
   "execution_count": null,
   "metadata": {},
   "outputs": [],
   "source": [
    "data.head()"
   ]
  },
  {
   "cell_type": "code",
   "execution_count": 4,
   "metadata": {},
   "outputs": [
    {
     "data": {
      "text/html": [
       "<div>\n",
       "<style scoped>\n",
       "    .dataframe tbody tr th:only-of-type {\n",
       "        vertical-align: middle;\n",
       "    }\n",
       "\n",
       "    .dataframe tbody tr th {\n",
       "        vertical-align: top;\n",
       "    }\n",
       "\n",
       "    .dataframe thead th {\n",
       "        text-align: right;\n",
       "    }\n",
       "</style>\n",
       "<table border=\"1\" class=\"dataframe\">\n",
       "  <thead>\n",
       "    <tr style=\"text-align: right;\">\n",
       "      <th></th>\n",
       "      <th>provider_id</th>\n",
       "      <th>hospital_name</th>\n",
       "      <th>address</th>\n",
       "      <th>city</th>\n",
       "      <th>state</th>\n",
       "      <th>zip_code</th>\n",
       "      <th>county_name</th>\n",
       "      <th>phone_number</th>\n",
       "      <th>measure_id</th>\n",
       "      <th>measure_name</th>\n",
       "      <th>compared_to_national</th>\n",
       "      <th>denominator</th>\n",
       "      <th>score</th>\n",
       "      <th>lower_estimate</th>\n",
       "      <th>higher_estimate</th>\n",
       "      <th>footnote</th>\n",
       "      <th>measure_start_date</th>\n",
       "      <th>measure_end_date</th>\n",
       "    </tr>\n",
       "  </thead>\n",
       "  <tbody>\n",
       "    <tr>\n",
       "      <th>513</th>\n",
       "      <td>10052</td>\n",
       "      <td>LAKE MARTIN COMMUNITY HOSPITAL</td>\n",
       "      <td>201 MARIARDEN ROAD</td>\n",
       "      <td>DADEVILLE</td>\n",
       "      <td>AL</td>\n",
       "      <td>36853</td>\n",
       "      <td>TALLAPOOSA</td>\n",
       "      <td>(256) 825-7821</td>\n",
       "      <td>COMP_HIP_KNEE</td>\n",
       "      <td>Rate of complications for hip/knee replacement...</td>\n",
       "      <td>Not Available</td>\n",
       "      <td>Not Available</td>\n",
       "      <td>Not Available</td>\n",
       "      <td>Not Available</td>\n",
       "      <td>Not Available</td>\n",
       "      <td>5.0</td>\n",
       "      <td>2015-04-01T00:00:00.000</td>\n",
       "      <td>2018-03-31T00:00:00.000</td>\n",
       "    </tr>\n",
       "    <tr>\n",
       "      <th>514</th>\n",
       "      <td>10052</td>\n",
       "      <td>LAKE MARTIN COMMUNITY HOSPITAL</td>\n",
       "      <td>201 MARIARDEN ROAD</td>\n",
       "      <td>DADEVILLE</td>\n",
       "      <td>AL</td>\n",
       "      <td>36853</td>\n",
       "      <td>TALLAPOOSA</td>\n",
       "      <td>(256) 825-7821</td>\n",
       "      <td>MORT_30_AMI</td>\n",
       "      <td>Death rate for heart attack patients</td>\n",
       "      <td>Number of Cases Too Small</td>\n",
       "      <td>Not Available</td>\n",
       "      <td>Not Available</td>\n",
       "      <td>Not Available</td>\n",
       "      <td>Not Available</td>\n",
       "      <td>1.0</td>\n",
       "      <td>2015-07-01T00:00:00.000</td>\n",
       "      <td>2018-06-30T00:00:00.000</td>\n",
       "    </tr>\n",
       "    <tr>\n",
       "      <th>515</th>\n",
       "      <td>10052</td>\n",
       "      <td>LAKE MARTIN COMMUNITY HOSPITAL</td>\n",
       "      <td>201 MARIARDEN ROAD</td>\n",
       "      <td>DADEVILLE</td>\n",
       "      <td>AL</td>\n",
       "      <td>36853</td>\n",
       "      <td>TALLAPOOSA</td>\n",
       "      <td>(256) 825-7821</td>\n",
       "      <td>MORT_30_CABG</td>\n",
       "      <td>Death rate for CABG surgery patients</td>\n",
       "      <td>Not Available</td>\n",
       "      <td>Not Available</td>\n",
       "      <td>Not Available</td>\n",
       "      <td>Not Available</td>\n",
       "      <td>Not Available</td>\n",
       "      <td>5.0</td>\n",
       "      <td>2015-07-01T00:00:00.000</td>\n",
       "      <td>2018-06-30T00:00:00.000</td>\n",
       "    </tr>\n",
       "    <tr>\n",
       "      <th>516</th>\n",
       "      <td>10052</td>\n",
       "      <td>LAKE MARTIN COMMUNITY HOSPITAL</td>\n",
       "      <td>201 MARIARDEN ROAD</td>\n",
       "      <td>DADEVILLE</td>\n",
       "      <td>AL</td>\n",
       "      <td>36853</td>\n",
       "      <td>TALLAPOOSA</td>\n",
       "      <td>(256) 825-7821</td>\n",
       "      <td>MORT_30_COPD</td>\n",
       "      <td>Death rate for COPD patients</td>\n",
       "      <td>No Different Than the National Rate</td>\n",
       "      <td>65</td>\n",
       "      <td>8.1</td>\n",
       "      <td>5.5</td>\n",
       "      <td>11.7</td>\n",
       "      <td>NaN</td>\n",
       "      <td>2015-07-01T00:00:00.000</td>\n",
       "      <td>2018-06-30T00:00:00.000</td>\n",
       "    </tr>\n",
       "    <tr>\n",
       "      <th>517</th>\n",
       "      <td>10052</td>\n",
       "      <td>LAKE MARTIN COMMUNITY HOSPITAL</td>\n",
       "      <td>201 MARIARDEN ROAD</td>\n",
       "      <td>DADEVILLE</td>\n",
       "      <td>AL</td>\n",
       "      <td>36853</td>\n",
       "      <td>TALLAPOOSA</td>\n",
       "      <td>(256) 825-7821</td>\n",
       "      <td>MORT_30_HF</td>\n",
       "      <td>Death rate for heart failure patients</td>\n",
       "      <td>Number of Cases Too Small</td>\n",
       "      <td>Not Available</td>\n",
       "      <td>Not Available</td>\n",
       "      <td>Not Available</td>\n",
       "      <td>Not Available</td>\n",
       "      <td>1.0</td>\n",
       "      <td>2015-07-01T00:00:00.000</td>\n",
       "      <td>2018-06-30T00:00:00.000</td>\n",
       "    </tr>\n",
       "  </tbody>\n",
       "</table>\n",
       "</div>"
      ],
      "text/plain": [
       "     provider_id                   hospital_name             address  \\\n",
       "513        10052  LAKE MARTIN COMMUNITY HOSPITAL  201 MARIARDEN ROAD   \n",
       "514        10052  LAKE MARTIN COMMUNITY HOSPITAL  201 MARIARDEN ROAD   \n",
       "515        10052  LAKE MARTIN COMMUNITY HOSPITAL  201 MARIARDEN ROAD   \n",
       "516        10052  LAKE MARTIN COMMUNITY HOSPITAL  201 MARIARDEN ROAD   \n",
       "517        10052  LAKE MARTIN COMMUNITY HOSPITAL  201 MARIARDEN ROAD   \n",
       "\n",
       "          city state  zip_code county_name    phone_number     measure_id  \\\n",
       "513  DADEVILLE    AL     36853  TALLAPOOSA  (256) 825-7821  COMP_HIP_KNEE   \n",
       "514  DADEVILLE    AL     36853  TALLAPOOSA  (256) 825-7821    MORT_30_AMI   \n",
       "515  DADEVILLE    AL     36853  TALLAPOOSA  (256) 825-7821   MORT_30_CABG   \n",
       "516  DADEVILLE    AL     36853  TALLAPOOSA  (256) 825-7821   MORT_30_COPD   \n",
       "517  DADEVILLE    AL     36853  TALLAPOOSA  (256) 825-7821     MORT_30_HF   \n",
       "\n",
       "                                          measure_name  \\\n",
       "513  Rate of complications for hip/knee replacement...   \n",
       "514               Death rate for heart attack patients   \n",
       "515               Death rate for CABG surgery patients   \n",
       "516                       Death rate for COPD patients   \n",
       "517              Death rate for heart failure patients   \n",
       "\n",
       "                    compared_to_national    denominator          score  \\\n",
       "513                        Not Available  Not Available  Not Available   \n",
       "514            Number of Cases Too Small  Not Available  Not Available   \n",
       "515                        Not Available  Not Available  Not Available   \n",
       "516  No Different Than the National Rate             65            8.1   \n",
       "517            Number of Cases Too Small  Not Available  Not Available   \n",
       "\n",
       "    lower_estimate higher_estimate  footnote       measure_start_date  \\\n",
       "513  Not Available   Not Available       5.0  2015-04-01T00:00:00.000   \n",
       "514  Not Available   Not Available       1.0  2015-07-01T00:00:00.000   \n",
       "515  Not Available   Not Available       5.0  2015-07-01T00:00:00.000   \n",
       "516            5.5            11.7       NaN  2015-07-01T00:00:00.000   \n",
       "517  Not Available   Not Available       1.0  2015-07-01T00:00:00.000   \n",
       "\n",
       "            measure_end_date  \n",
       "513  2018-03-31T00:00:00.000  \n",
       "514  2018-06-30T00:00:00.000  \n",
       "515  2018-06-30T00:00:00.000  \n",
       "516  2018-06-30T00:00:00.000  \n",
       "517  2018-06-30T00:00:00.000  "
      ]
     },
     "execution_count": 4,
     "metadata": {},
     "output_type": "execute_result"
    }
   ],
   "source": [
    "data.query('city == \"DADEVILLE\" and state == \"AL\"').head()"
   ]
  },
  {
   "cell_type": "markdown",
   "metadata": {},
   "source": [
    "# Generic Complex Filtering\n",
    "\n",
    "Apply some generic function to an entire row to figure out if should be filtered."
   ]
  },
  {
   "cell_type": "code",
   "execution_count": null,
   "metadata": {},
   "outputs": [],
   "source": [
    "with_score = data[(data['score'] != 'Not Available') & (data['denominator'] != 'Not Available')]"
   ]
  },
  {
   "cell_type": "code",
   "execution_count": null,
   "metadata": {},
   "outputs": [],
   "source": [
    "with_score.shape"
   ]
  },
  {
   "cell_type": "code",
   "execution_count": null,
   "metadata": {},
   "outputs": [],
   "source": [
    "with_score['pct'] = with_score['score'].astype(float) / with_score['denominator'].astype(float)"
   ]
  },
  {
   "cell_type": "code",
   "execution_count": null,
   "metadata": {},
   "outputs": [],
   "source": [
    "with_score['pct'].min()"
   ]
  },
  {
   "cell_type": "code",
   "execution_count": null,
   "metadata": {},
   "outputs": [],
   "source": [
    "with_score['pct'].max()"
   ]
  },
  {
   "cell_type": "code",
   "execution_count": null,
   "metadata": {},
   "outputs": [],
   "source": [
    "too_high = with_score['pct'] > 1\n",
    "with_score[too_high]"
   ]
  },
  {
   "cell_type": "code",
   "execution_count": null,
   "metadata": {},
   "outputs": [],
   "source": []
  },
  {
   "cell_type": "code",
   "execution_count": null,
   "metadata": {},
   "outputs": [],
   "source": []
  },
  {
   "cell_type": "code",
   "execution_count": null,
   "metadata": {},
   "outputs": [],
   "source": [
    "mask = with_score.apply(lambda x: (float(x['score']) / float(x['denominator'])) > 0.10, axis=1)"
   ]
  },
  {
   "cell_type": "code",
   "execution_count": null,
   "metadata": {},
   "outputs": [],
   "source": [
    "with_score[mask]"
   ]
  },
  {
   "cell_type": "code",
   "execution_count": null,
   "metadata": {},
   "outputs": [],
   "source": [
    "with_score.shape"
   ]
  },
  {
   "cell_type": "code",
   "execution_count": null,
   "metadata": {},
   "outputs": [],
   "source": [
    "with_score[mask].shape"
   ]
  },
  {
   "cell_type": "code",
   "execution_count": null,
   "metadata": {},
   "outputs": [],
   "source": [
    "with_score[mask].head()"
   ]
  },
  {
   "cell_type": "code",
   "execution_count": null,
   "metadata": {},
   "outputs": [],
   "source": []
  }
 ],
 "metadata": {
  "kernelspec": {
   "display_name": "Python 3",
   "language": "python",
   "name": "python3"
  },
  "language_info": {
   "codemirror_mode": {
    "name": "ipython",
    "version": 3
   },
   "file_extension": ".py",
   "mimetype": "text/x-python",
   "name": "python",
   "nbconvert_exporter": "python",
   "pygments_lexer": "ipython3",
   "version": "3.6.7"
  }
 },
 "nbformat": 4,
 "nbformat_minor": 2
}
